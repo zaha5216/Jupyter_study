{
 "cells": [
  {
   "cell_type": "code",
   "execution_count": 4,
   "metadata": {},
   "outputs": [],
   "source": [
    "import numpy as np\n",
    "import cv2\n",
    "from skimage import img_as_float\n",
    "%matplotlib inline\n",
    "from skimage.io import imread, imshow, imsave\n",
    "\n",
    "# Загрузка цветного изображения как полутонового  в виде табицы\n",
    "img1 = cv2.imread('/Users/zaha/Downloads/КБ Луч/1.png',0)\n",
    "img2 = cv2.imread('/Users/zaha/Downloads/КБ Луч/2.png',0)\n"
   ]
  },
  {
   "cell_type": "code",
   "execution_count": 5,
   "metadata": {},
   "outputs": [
    {
     "data": {
      "text/plain": [
       "(750, 1000)"
      ]
     },
     "execution_count": 5,
     "metadata": {},
     "output_type": "execute_result"
    }
   ],
   "source": [
    "img1.shape # ( Строки,Столбы,кол-во каналовRGB)\n"
   ]
  },
  {
   "cell_type": "code",
   "execution_count": 6,
   "metadata": {},
   "outputs": [
    {
     "data": {
      "text/plain": [
       "(750, 1000)"
      ]
     },
     "execution_count": 6,
     "metadata": {},
     "output_type": "execute_result"
    }
   ],
   "source": [
    "img2.shape # ( Строки,Столбы,кол-во каналовRGB)"
   ]
  },
  {
   "cell_type": "code",
   "execution_count": 7,
   "metadata": {},
   "outputs": [
    {
     "data": {
      "text/plain": [
       "750000"
      ]
     },
     "execution_count": 7,
     "metadata": {},
     "output_type": "execute_result"
    }
   ],
   "source": [
    "img1.size"
   ]
  },
  {
   "cell_type": "code",
   "execution_count": 8,
   "metadata": {},
   "outputs": [
    {
     "data": {
      "text/plain": [
       "750000"
      ]
     },
     "execution_count": 8,
     "metadata": {},
     "output_type": "execute_result"
    }
   ],
   "source": [
    "img2.size"
   ]
  },
  {
   "cell_type": "code",
   "execution_count": 9,
   "metadata": {},
   "outputs": [
    {
     "data": {
      "text/plain": [
       "array([[ 0,  0,  0, ...,  0,  0,  0],\n",
       "       [ 0,  0,  0, ...,  0,  0,  0],\n",
       "       [ 0,  0,  0, ...,  0,  0,  0],\n",
       "       ...,\n",
       "       [ 0,  0,  0, ..., 25, 25, 30],\n",
       "       [ 0,  0,  0, ..., 22, 21, 25],\n",
       "       [ 0,  0,  0, ..., 22, 21, 29]], dtype=uint8)"
      ]
     },
     "execution_count": 9,
     "metadata": {},
     "output_type": "execute_result"
    }
   ],
   "source": [
    "img1[:]"
   ]
  },
  {
   "cell_type": "code",
   "execution_count": 10,
   "metadata": {},
   "outputs": [
    {
     "data": {
      "text/plain": [
       "array([[0, 0, 0, ..., 0, 0, 0],\n",
       "       [0, 0, 0, ..., 0, 0, 0],\n",
       "       [0, 0, 0, ..., 0, 0, 0],\n",
       "       ...,\n",
       "       [0, 0, 0, ..., 0, 0, 0],\n",
       "       [0, 0, 0, ..., 0, 0, 0],\n",
       "       [0, 0, 0, ..., 0, 0, 0]], dtype=uint8)"
      ]
     },
     "execution_count": 10,
     "metadata": {},
     "output_type": "execute_result"
    }
   ],
   "source": [
    "img2[:]"
   ]
  },
  {
   "cell_type": "code",
   "execution_count": 11,
   "metadata": {},
   "outputs": [],
   "source": [
    "diap = [img1+283, img1+311]\n",
    "img2 = diap"
   ]
  },
  {
   "cell_type": "code",
   "execution_count": 12,
   "metadata": {},
   "outputs": [],
   "source": [
    "img2 = img_as_float(img2)\n",
    "img1 = img_as_float(img1)"
   ]
  },
  {
   "cell_type": "code",
   "execution_count": 13,
   "metadata": {},
   "outputs": [
    {
     "data": {
      "text/plain": [
       "dtype('float64')"
      ]
     },
     "execution_count": 13,
     "metadata": {},
     "output_type": "execute_result"
    }
   ],
   "source": [
    "img1.dtype"
   ]
  },
  {
   "cell_type": "code",
   "execution_count": 14,
   "metadata": {},
   "outputs": [
    {
     "data": {
      "text/plain": [
       "array([[[0.0043183 , 0.0043183 , 0.0043183 , ..., 0.0043183 ,\n",
       "         0.0043183 , 0.0043183 ],\n",
       "        [0.0043183 , 0.0043183 , 0.0043183 , ..., 0.0043183 ,\n",
       "         0.0043183 , 0.0043183 ],\n",
       "        [0.0043183 , 0.0043183 , 0.0043183 , ..., 0.0043183 ,\n",
       "         0.0043183 , 0.0043183 ],\n",
       "        ...,\n",
       "        [0.0043183 , 0.0043183 , 0.0043183 , ..., 0.00469978,\n",
       "         0.00469978, 0.00477607],\n",
       "        [0.0043183 , 0.0043183 , 0.0043183 , ..., 0.004654  ,\n",
       "         0.00463874, 0.00469978],\n",
       "        [0.0043183 , 0.0043183 , 0.0043183 , ..., 0.004654  ,\n",
       "         0.00463874, 0.00476081]],\n",
       "\n",
       "       [[0.00474556, 0.00474556, 0.00474556, ..., 0.00474556,\n",
       "         0.00474556, 0.00474556],\n",
       "        [0.00474556, 0.00474556, 0.00474556, ..., 0.00474556,\n",
       "         0.00474556, 0.00474556],\n",
       "        [0.00474556, 0.00474556, 0.00474556, ..., 0.00474556,\n",
       "         0.00474556, 0.00474556],\n",
       "        ...,\n",
       "        [0.00474556, 0.00474556, 0.00474556, ..., 0.00512703,\n",
       "         0.00512703, 0.00520333],\n",
       "        [0.00474556, 0.00474556, 0.00474556, ..., 0.00508125,\n",
       "         0.005066  , 0.00512703],\n",
       "        [0.00474556, 0.00474556, 0.00474556, ..., 0.00508125,\n",
       "         0.005066  , 0.00518807]]])"
      ]
     },
     "execution_count": 14,
     "metadata": {},
     "output_type": "execute_result"
    }
   ],
   "source": [
    "img2"
   ]
  },
  {
   "cell_type": "code",
   "execution_count": 15,
   "metadata": {},
   "outputs": [
    {
     "name": "stdout",
     "output_type": "stream",
     "text": [
      "0.0 1.0\n",
      "0.004318303196765088 0.008636606393530175\n"
     ]
    }
   ],
   "source": [
    "print(img1.min(), img1.max())\n",
    "print(img2.min(), img2.max())"
   ]
  },
  {
   "cell_type": "code",
   "execution_count": 16,
   "metadata": {},
   "outputs": [],
   "source": [
    "ssd = sum(img1**2-img2**2)"
   ]
  },
  {
   "cell_type": "code",
   "execution_count": 17,
   "metadata": {},
   "outputs": [
    {
     "data": {
      "text/plain": [
       "array([[-4.11680424e-05, -4.11680424e-05, -4.11680424e-05, ...,\n",
       "        -4.11680424e-05, -4.11680424e-05, -4.11680424e-05],\n",
       "       [-4.11680424e-05, -4.11680424e-05, -4.11680424e-05, ...,\n",
       "        -4.11680424e-05, -4.11680424e-05, -4.11680424e-05],\n",
       "       [-4.11680424e-05, -4.11680424e-05, -4.11680424e-05, ...,\n",
       "        -4.11680424e-05, -4.11680424e-05, -4.11680424e-05],\n",
       "       ...,\n",
       "       [-4.11680424e-05, -4.11680424e-05, -4.11680424e-05, ...,\n",
       "         1.91750013e-02,  1.91750013e-02,  2.76317754e-02],\n",
       "       [-4.11680424e-05, -4.11680424e-05, -4.11680424e-05, ...,\n",
       "         1.48391032e-02,  1.35168316e-02,  1.91750013e-02],\n",
       "       [-4.11680424e-05, -4.11680424e-05, -4.11680424e-05, ...,\n",
       "         1.48391032e-02,  1.35168316e-02,  2.58173928e-02]])"
      ]
     },
     "execution_count": 17,
     "metadata": {},
     "output_type": "execute_result"
    }
   ],
   "source": [
    "ssd"
   ]
  },
  {
   "cell_type": "code",
   "execution_count": 18,
   "metadata": {},
   "outputs": [
    {
     "data": {
      "text/plain": [
       "0.3898138823529412"
      ]
     },
     "execution_count": 18,
     "metadata": {},
     "output_type": "execute_result"
    }
   ],
   "source": [
    "img1.mean()"
   ]
  },
  {
   "cell_type": "code",
   "execution_count": 19,
   "metadata": {},
   "outputs": [
    {
     "data": {
      "text/plain": [
       "0.006048715037766076"
      ]
     },
     "execution_count": 19,
     "metadata": {},
     "output_type": "execute_result"
    }
   ],
   "source": [
    "img2.mean()"
   ]
  },
  {
   "cell_type": "code",
   "execution_count": 20,
   "metadata": {},
   "outputs": [],
   "source": [
    "men = img1.mean() - img2.mean()"
   ]
  },
  {
   "cell_type": "code",
   "execution_count": 21,
   "metadata": {},
   "outputs": [
    {
     "data": {
      "text/plain": [
       "0.3837651673151751"
      ]
     },
     "execution_count": 21,
     "metadata": {},
     "output_type": "execute_result"
    }
   ],
   "source": [
    "men"
   ]
  },
  {
   "cell_type": "code",
   "execution_count": 22,
   "metadata": {},
   "outputs": [],
   "source": [
    "N = 49"
   ]
  },
  {
   "cell_type": "code",
   "execution_count": 23,
   "metadata": {},
   "outputs": [],
   "source": [
    "R = ssd / N - (men**2)"
   ]
  },
  {
   "cell_type": "code",
   "execution_count": 24,
   "metadata": {},
   "outputs": [
    {
     "data": {
      "text/plain": [
       "array([[-0.14727654, -0.14727654, -0.14727654, ..., -0.14727654,\n",
       "        -0.14727654, -0.14727654],\n",
       "       [-0.14727654, -0.14727654, -0.14727654, ..., -0.14727654,\n",
       "        -0.14727654, -0.14727654],\n",
       "       [-0.14727654, -0.14727654, -0.14727654, ..., -0.14727654,\n",
       "        -0.14727654, -0.14727654],\n",
       "       ...,\n",
       "       [-0.14727654, -0.14727654, -0.14727654, ..., -0.14688438,\n",
       "        -0.14688438, -0.14671179],\n",
       "       [-0.14727654, -0.14727654, -0.14727654, ..., -0.14697286,\n",
       "        -0.14699985, -0.14688438],\n",
       "       [-0.14727654, -0.14727654, -0.14727654, ..., -0.14697286,\n",
       "        -0.14699985, -0.14674882]])"
      ]
     },
     "execution_count": 24,
     "metadata": {},
     "output_type": "execute_result"
    }
   ],
   "source": [
    "R"
   ]
  },
  {
   "cell_type": "code",
   "execution_count": 27,
   "metadata": {},
   "outputs": [
    {
     "ename": "ValueError",
     "evalue": "The truth value of an array with more than one element is ambiguous. Use a.any() or a.all()",
     "output_type": "error",
     "traceback": [
      "\u001b[0;31m---------------------------------------------------------------------------\u001b[0m",
      "\u001b[0;31mValueError\u001b[0m                                Traceback (most recent call last)",
      "\u001b[0;32m<ipython-input-27-dbf3c6128965>\u001b[0m in \u001b[0;36m<module>\u001b[0;34m\u001b[0m\n\u001b[0;32m----> 1\u001b[0;31m \u001b[0mmin\u001b[0m\u001b[0;34m(\u001b[0m\u001b[0;34m*\u001b[0m\u001b[0mR\u001b[0m\u001b[0;34m)\u001b[0m\u001b[0;34m\u001b[0m\u001b[0m\n\u001b[0m",
      "\u001b[0;31mValueError\u001b[0m: The truth value of an array with more than one element is ambiguous. Use a.any() or a.all()"
     ]
    }
   ],
   "source": [
    "min(*R)"
   ]
  },
  {
   "cell_type": "code",
   "execution_count": 28,
   "metadata": {},
   "outputs": [
    {
     "ename": "NameError",
     "evalue": "name 'd1' is not defined",
     "output_type": "error",
     "traceback": [
      "\u001b[0;31m---------------------------------------------------------------------------\u001b[0m",
      "\u001b[0;31mNameError\u001b[0m                                 Traceback (most recent call last)",
      "\u001b[0;32m<ipython-input-28-2d3a24957153>\u001b[0m in \u001b[0;36m<module>\u001b[0;34m\u001b[0m\n\u001b[0;32m----> 1\u001b[0;31m \u001b[0md1\u001b[0m\u001b[0;34m\u001b[0m\u001b[0m\n\u001b[0m",
      "\u001b[0;31mNameError\u001b[0m: name 'd1' is not defined"
     ]
    }
   ],
   "source": [
    "d1"
   ]
  },
  {
   "cell_type": "code",
   "execution_count": null,
   "metadata": {},
   "outputs": [],
   "source": []
  },
  {
   "cell_type": "code",
   "execution_count": 29,
   "metadata": {},
   "outputs": [],
   "source": [
    "ssd2 = sum(img2**2-img1**2)"
   ]
  },
  {
   "cell_type": "code",
   "execution_count": 30,
   "metadata": {},
   "outputs": [
    {
     "data": {
      "text/plain": [
       "array([[ 4.11680424e-05,  4.11680424e-05,  4.11680424e-05, ...,\n",
       "         4.11680424e-05,  4.11680424e-05,  4.11680424e-05],\n",
       "       [ 4.11680424e-05,  4.11680424e-05,  4.11680424e-05, ...,\n",
       "         4.11680424e-05,  4.11680424e-05,  4.11680424e-05],\n",
       "       [ 4.11680424e-05,  4.11680424e-05,  4.11680424e-05, ...,\n",
       "         4.11680424e-05,  4.11680424e-05,  4.11680424e-05],\n",
       "       ...,\n",
       "       [ 4.11680424e-05,  4.11680424e-05,  4.11680424e-05, ...,\n",
       "        -1.91750013e-02, -1.91750013e-02, -2.76317754e-02],\n",
       "       [ 4.11680424e-05,  4.11680424e-05,  4.11680424e-05, ...,\n",
       "        -1.48391032e-02, -1.35168316e-02, -1.91750013e-02],\n",
       "       [ 4.11680424e-05,  4.11680424e-05,  4.11680424e-05, ...,\n",
       "        -1.48391032e-02, -1.35168316e-02, -2.58173928e-02]])"
      ]
     },
     "execution_count": 30,
     "metadata": {},
     "output_type": "execute_result"
    }
   ],
   "source": [
    "ssd2"
   ]
  },
  {
   "cell_type": "code",
   "execution_count": 31,
   "metadata": {},
   "outputs": [],
   "source": [
    "men2 = img2.mean() - img1.mean()"
   ]
  },
  {
   "cell_type": "code",
   "execution_count": 32,
   "metadata": {},
   "outputs": [
    {
     "data": {
      "text/plain": [
       "-0.3837651673151751"
      ]
     },
     "execution_count": 32,
     "metadata": {},
     "output_type": "execute_result"
    }
   ],
   "source": [
    "men2"
   ]
  },
  {
   "cell_type": "code",
   "execution_count": 33,
   "metadata": {},
   "outputs": [],
   "source": [
    "R1 = ssd2 / N - (men2**2)"
   ]
  },
  {
   "cell_type": "code",
   "execution_count": 34,
   "metadata": {},
   "outputs": [
    {
     "data": {
      "text/plain": [
       "array([[-0.14727486, -0.14727486, -0.14727486, ..., -0.14727486,\n",
       "        -0.14727486, -0.14727486],\n",
       "       [-0.14727486, -0.14727486, -0.14727486, ..., -0.14727486,\n",
       "        -0.14727486, -0.14727486],\n",
       "       [-0.14727486, -0.14727486, -0.14727486, ..., -0.14727486,\n",
       "        -0.14727486, -0.14727486],\n",
       "       ...,\n",
       "       [-0.14727486, -0.14727486, -0.14727486, ..., -0.14766703,\n",
       "        -0.14766703, -0.14783962],\n",
       "       [-0.14727486, -0.14727486, -0.14727486, ..., -0.14757854,\n",
       "        -0.14755156, -0.14766703],\n",
       "       [-0.14727486, -0.14727486, -0.14727486, ..., -0.14757854,\n",
       "        -0.14755156, -0.14780259]])"
      ]
     },
     "execution_count": 34,
     "metadata": {},
     "output_type": "execute_result"
    }
   ],
   "source": [
    "R1"
   ]
  },
  {
   "cell_type": "code",
   "execution_count": 35,
   "metadata": {},
   "outputs": [
    {
     "ename": "ValueError",
     "evalue": "The truth value of an array with more than one element is ambiguous. Use a.any() or a.all()",
     "output_type": "error",
     "traceback": [
      "\u001b[0;31m---------------------------------------------------------------------------\u001b[0m",
      "\u001b[0;31mValueError\u001b[0m                                Traceback (most recent call last)",
      "\u001b[0;32m<ipython-input-35-cd03543d46d3>\u001b[0m in \u001b[0;36m<module>\u001b[0;34m\u001b[0m\n\u001b[0;32m----> 1\u001b[0;31m \u001b[0md2\u001b[0m \u001b[0;34m=\u001b[0m \u001b[0mmin\u001b[0m\u001b[0;34m(\u001b[0m\u001b[0mR\u001b[0m\u001b[0;34m)\u001b[0m\u001b[0;34m\u001b[0m\u001b[0m\n\u001b[0m",
      "\u001b[0;31mValueError\u001b[0m: The truth value of an array with more than one element is ambiguous. Use a.any() or a.all()"
     ]
    }
   ],
   "source": [
    "d2 = min(R)"
   ]
  },
  {
   "cell_type": "code",
   "execution_count": 36,
   "metadata": {},
   "outputs": [
    {
     "ename": "NameError",
     "evalue": "name 'd2' is not defined",
     "output_type": "error",
     "traceback": [
      "\u001b[0;31m---------------------------------------------------------------------------\u001b[0m",
      "\u001b[0;31mNameError\u001b[0m                                 Traceback (most recent call last)",
      "\u001b[0;32m<ipython-input-36-fe1ba9d06821>\u001b[0m in \u001b[0;36m<module>\u001b[0;34m\u001b[0m\n\u001b[0;32m----> 1\u001b[0;31m \u001b[0md2\u001b[0m\u001b[0;34m\u001b[0m\u001b[0m\n\u001b[0m",
      "\u001b[0;31mNameError\u001b[0m: name 'd2' is not defined"
     ]
    }
   ],
   "source": [
    "d2"
   ]
  },
  {
   "cell_type": "code",
   "execution_count": null,
   "metadata": {},
   "outputs": [],
   "source": []
  }
 ],
 "metadata": {
  "kernelspec": {
   "display_name": "Python 3",
   "language": "python",
   "name": "python3"
  },
  "language_info": {
   "codemirror_mode": {
    "name": "ipython",
    "version": 3
   },
   "file_extension": ".py",
   "mimetype": "text/x-python",
   "name": "python",
   "nbconvert_exporter": "python",
   "pygments_lexer": "ipython3",
   "version": "3.7.0"
  }
 },
 "nbformat": 4,
 "nbformat_minor": 2
}
