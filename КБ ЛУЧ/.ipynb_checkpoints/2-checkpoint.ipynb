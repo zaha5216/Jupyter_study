{
 "cells": [
  {
   "cell_type": "code",
   "execution_count": 1,
   "metadata": {},
   "outputs": [],
   "source": [
    "import numpy as np\n",
    "import cv2\n",
    "from skimage import img_as_float\n",
    "%matplotlib inline\n",
    "from skimage.io import imread, imshow, imsave\n",
    "\n",
    "# Загрузка цветного изображения как полутонового  в виде табицы\n",
    "img1 = cv2.imread('/Users/zaha/Downloads/data/1.png',0)\n",
    "img2 = cv2.imread('/Users/zaha/Downloads/data/2.png',0)\n"
   ]
  },
  {
   "cell_type": "code",
   "execution_count": 2,
   "metadata": {},
   "outputs": [
    {
     "data": {
      "text/plain": [
       "(750, 1000)"
      ]
     },
     "execution_count": 2,
     "metadata": {},
     "output_type": "execute_result"
    }
   ],
   "source": [
    "img1.shape # ( Строки,Столбы,кол-во каналовRGB)\n"
   ]
  },
  {
   "cell_type": "code",
   "execution_count": 3,
   "metadata": {},
   "outputs": [
    {
     "data": {
      "text/plain": [
       "(750, 1000)"
      ]
     },
     "execution_count": 3,
     "metadata": {},
     "output_type": "execute_result"
    }
   ],
   "source": [
    "img2.shape # ( Строки,Столбы,кол-во каналовRGB)"
   ]
  },
  {
   "cell_type": "code",
   "execution_count": 4,
   "metadata": {},
   "outputs": [
    {
     "data": {
      "text/plain": [
       "750000"
      ]
     },
     "execution_count": 4,
     "metadata": {},
     "output_type": "execute_result"
    }
   ],
   "source": [
    "img1.size"
   ]
  },
  {
   "cell_type": "code",
   "execution_count": 5,
   "metadata": {},
   "outputs": [
    {
     "data": {
      "text/plain": [
       "750000"
      ]
     },
     "execution_count": 5,
     "metadata": {},
     "output_type": "execute_result"
    }
   ],
   "source": [
    "img2.size"
   ]
  },
  {
   "cell_type": "code",
   "execution_count": 6,
   "metadata": {},
   "outputs": [
    {
     "data": {
      "text/plain": [
       "array([[ 0,  0,  0, ...,  0,  0,  0],\n",
       "       [ 0,  0,  0, ...,  0,  0,  0],\n",
       "       [ 0,  0,  0, ...,  0,  0,  0],\n",
       "       ...,\n",
       "       [ 0,  0,  0, ..., 25, 25, 30],\n",
       "       [ 0,  0,  0, ..., 22, 21, 25],\n",
       "       [ 0,  0,  0, ..., 22, 21, 29]], dtype=uint8)"
      ]
     },
     "execution_count": 6,
     "metadata": {},
     "output_type": "execute_result"
    }
   ],
   "source": [
    "img1[:]"
   ]
  },
  {
   "cell_type": "code",
   "execution_count": 7,
   "metadata": {},
   "outputs": [
    {
     "data": {
      "text/plain": [
       "array([[0, 0, 0, ..., 0, 0, 0],\n",
       "       [0, 0, 0, ..., 0, 0, 0],\n",
       "       [0, 0, 0, ..., 0, 0, 0],\n",
       "       ...,\n",
       "       [0, 0, 0, ..., 0, 0, 0],\n",
       "       [0, 0, 0, ..., 0, 0, 0],\n",
       "       [0, 0, 0, ..., 0, 0, 0]], dtype=uint8)"
      ]
     },
     "execution_count": 7,
     "metadata": {},
     "output_type": "execute_result"
    }
   ],
   "source": [
    "img2[:]"
   ]
  },
  {
   "cell_type": "code",
   "execution_count": 29,
   "metadata": {},
   "outputs": [],
   "source": [
    "diap = [img1+283, img1+311]\n",
    "img2 = diap"
   ]
  },
  {
   "cell_type": "code",
   "execution_count": 8,
   "metadata": {},
   "outputs": [
    {
     "name": "stdout",
     "output_type": "stream",
     "text": [
      "0 255\n",
      "0 255\n"
     ]
    }
   ],
   "source": [
    "print(img1.min(), img1.max())\n",
    "print(img2.min(), img2.max())"
   ]
  },
  {
   "cell_type": "code",
   "execution_count": 27,
   "metadata": {},
   "outputs": [
    {
     "ename": "SyntaxError",
     "evalue": "invalid syntax (<ipython-input-27-ddd539ea14cb>, line 1)",
     "output_type": "error",
     "traceback": [
      "\u001b[0;36m  File \u001b[0;32m\"<ipython-input-27-ddd539ea14cb>\"\u001b[0;36m, line \u001b[0;32m1\u001b[0m\n\u001b[0;31m    diap = ([img1+283, img1+311], dtype=np.float32)\u001b[0m\n\u001b[0m                                       ^\u001b[0m\n\u001b[0;31mSyntaxError\u001b[0m\u001b[0;31m:\u001b[0m invalid syntax\n"
     ]
    }
   ],
   "source": [
    "diap = ([img1+283, img1+311], dtype=np.float32)\n",
    "img2 = diap\n"
   ]
  },
  {
   "cell_type": "code",
   "execution_count": 11,
   "metadata": {},
   "outputs": [],
   "source": [
    "img1 = np.array([img1], dtype=np.float32)\n",
    "img2 = np.array([img2], dtype=np.float32)"
   ]
  },
  {
   "cell_type": "code",
   "execution_count": 12,
   "metadata": {},
   "outputs": [
    {
     "data": {
      "text/plain": [
       "array([[[[283., 283., 283., ..., 283., 283., 283.],\n",
       "         [283., 283., 283., ..., 283., 283., 283.],\n",
       "         [283., 283., 283., ..., 283., 283., 283.],\n",
       "         ...,\n",
       "         [283., 283., 283., ..., 308., 308., 313.],\n",
       "         [283., 283., 283., ..., 305., 304., 308.],\n",
       "         [283., 283., 283., ..., 305., 304., 312.]],\n",
       "\n",
       "        [[311., 311., 311., ..., 311., 311., 311.],\n",
       "         [311., 311., 311., ..., 311., 311., 311.],\n",
       "         [311., 311., 311., ..., 311., 311., 311.],\n",
       "         ...,\n",
       "         [311., 311., 311., ..., 336., 336., 341.],\n",
       "         [311., 311., 311., ..., 333., 332., 336.],\n",
       "         [311., 311., 311., ..., 333., 332., 340.]]]], dtype=float32)"
      ]
     },
     "execution_count": 12,
     "metadata": {},
     "output_type": "execute_result"
    }
   ],
   "source": [
    "img2"
   ]
  },
  {
   "cell_type": "code",
   "execution_count": 13,
   "metadata": {},
   "outputs": [
    {
     "data": {
      "text/plain": [
       "array([[[ 0.,  0.,  0., ...,  0.,  0.,  0.],\n",
       "        [ 0.,  0.,  0., ...,  0.,  0.,  0.],\n",
       "        [ 0.,  0.,  0., ...,  0.,  0.,  0.],\n",
       "        ...,\n",
       "        [ 0.,  0.,  0., ..., 25., 25., 30.],\n",
       "        [ 0.,  0.,  0., ..., 22., 21., 25.],\n",
       "        [ 0.,  0.,  0., ..., 22., 21., 29.]]], dtype=float32)"
      ]
     },
     "execution_count": 13,
     "metadata": {},
     "output_type": "execute_result"
    }
   ],
   "source": [
    "img1"
   ]
  },
  {
   "cell_type": "code",
   "execution_count": 14,
   "metadata": {},
   "outputs": [],
   "source": [
    "ssd = sum(img1**2-img2**2)"
   ]
  },
  {
   "cell_type": "code",
   "execution_count": 15,
   "metadata": {},
   "outputs": [
    {
     "data": {
      "text/plain": [
       "array([[[ -80089.,  -80089.,  -80089., ...,  -80089.,  -80089.,\n",
       "          -80089.],\n",
       "        [ -80089.,  -80089.,  -80089., ...,  -80089.,  -80089.,\n",
       "          -80089.],\n",
       "        [ -80089.,  -80089.,  -80089., ...,  -80089.,  -80089.,\n",
       "          -80089.],\n",
       "        ...,\n",
       "        [ -80089.,  -80089.,  -80089., ...,  -94239.,  -94239.,\n",
       "          -97069.],\n",
       "        [ -80089.,  -80089.,  -80089., ...,  -92541.,  -91975.,\n",
       "          -94239.],\n",
       "        [ -80089.,  -80089.,  -80089., ...,  -92541.,  -91975.,\n",
       "          -96503.]],\n",
       "\n",
       "       [[ -96721.,  -96721.,  -96721., ...,  -96721.,  -96721.,\n",
       "          -96721.],\n",
       "        [ -96721.,  -96721.,  -96721., ...,  -96721.,  -96721.,\n",
       "          -96721.],\n",
       "        [ -96721.,  -96721.,  -96721., ...,  -96721.,  -96721.,\n",
       "          -96721.],\n",
       "        ...,\n",
       "        [ -96721.,  -96721.,  -96721., ..., -112271., -112271.,\n",
       "         -115381.],\n",
       "        [ -96721.,  -96721.,  -96721., ..., -110405., -109783.,\n",
       "         -112271.],\n",
       "        [ -96721.,  -96721.,  -96721., ..., -110405., -109783.,\n",
       "         -114759.]]], dtype=float32)"
      ]
     },
     "execution_count": 15,
     "metadata": {},
     "output_type": "execute_result"
    }
   ],
   "source": [
    "ssd"
   ]
  },
  {
   "cell_type": "code",
   "execution_count": 16,
   "metadata": {},
   "outputs": [
    {
     "data": {
      "text/plain": [
       "99.40254"
      ]
     },
     "execution_count": 16,
     "metadata": {},
     "output_type": "execute_result"
    }
   ],
   "source": [
    "img1.mean()"
   ]
  },
  {
   "cell_type": "code",
   "execution_count": 17,
   "metadata": {},
   "outputs": [
    {
     "data": {
      "text/plain": [
       "396.40253"
      ]
     },
     "execution_count": 17,
     "metadata": {},
     "output_type": "execute_result"
    }
   ],
   "source": [
    "img2.mean()"
   ]
  },
  {
   "cell_type": "code",
   "execution_count": 18,
   "metadata": {},
   "outputs": [],
   "source": [
    "men = img1.mean() - img2.mean()"
   ]
  },
  {
   "cell_type": "code",
   "execution_count": 19,
   "metadata": {},
   "outputs": [
    {
     "data": {
      "text/plain": [
       "-297.0"
      ]
     },
     "execution_count": 19,
     "metadata": {},
     "output_type": "execute_result"
    }
   ],
   "source": [
    "men"
   ]
  },
  {
   "cell_type": "code",
   "execution_count": 20,
   "metadata": {},
   "outputs": [],
   "source": [
    "N = 49"
   ]
  },
  {
   "cell_type": "code",
   "execution_count": 21,
   "metadata": {},
   "outputs": [],
   "source": [
    "R = ssd / N - (men**2)"
   ]
  },
  {
   "cell_type": "code",
   "execution_count": 22,
   "metadata": {},
   "outputs": [
    {
     "data": {
      "text/plain": [
       "array([[[-89843.47 , -89843.47 , -89843.47 , ..., -89843.47 ,\n",
       "         -89843.47 , -89843.47 ],\n",
       "        [-89843.47 , -89843.47 , -89843.47 , ..., -89843.47 ,\n",
       "         -89843.47 , -89843.47 ],\n",
       "        [-89843.47 , -89843.47 , -89843.47 , ..., -89843.47 ,\n",
       "         -89843.47 , -89843.47 ],\n",
       "        ...,\n",
       "        [-89843.47 , -89843.47 , -89843.47 , ..., -90132.24 ,\n",
       "         -90132.24 , -90190.   ],\n",
       "        [-89843.47 , -89843.47 , -89843.47 , ..., -90097.59 ,\n",
       "         -90086.04 , -90132.24 ],\n",
       "        [-89843.47 , -89843.47 , -89843.47 , ..., -90097.59 ,\n",
       "         -90086.04 , -90178.445]],\n",
       "\n",
       "       [[-90182.9  , -90182.9  , -90182.9  , ..., -90182.9  ,\n",
       "         -90182.9  , -90182.9  ],\n",
       "        [-90182.9  , -90182.9  , -90182.9  , ..., -90182.9  ,\n",
       "         -90182.9  , -90182.9  ],\n",
       "        [-90182.9  , -90182.9  , -90182.9  , ..., -90182.9  ,\n",
       "         -90182.9  , -90182.9  ],\n",
       "        ...,\n",
       "        [-90182.9  , -90182.9  , -90182.9  , ..., -90500.24 ,\n",
       "         -90500.24 , -90563.71 ],\n",
       "        [-90182.9  , -90182.9  , -90182.9  , ..., -90462.164,\n",
       "         -90449.47 , -90500.24 ],\n",
       "        [-90182.9  , -90182.9  , -90182.9  , ..., -90462.164,\n",
       "         -90449.47 , -90551.02 ]]], dtype=float32)"
      ]
     },
     "execution_count": 22,
     "metadata": {},
     "output_type": "execute_result"
    }
   ],
   "source": [
    "R"
   ]
  },
  {
   "cell_type": "code",
   "execution_count": 23,
   "metadata": {},
   "outputs": [
    {
     "ename": "ValueError",
     "evalue": "The truth value of an array with more than one element is ambiguous. Use a.any() or a.all()",
     "output_type": "error",
     "traceback": [
      "\u001b[0;31m---------------------------------------------------------------------------\u001b[0m",
      "\u001b[0;31mValueError\u001b[0m                                Traceback (most recent call last)",
      "\u001b[0;32m<ipython-input-23-1ae3885291cc>\u001b[0m in \u001b[0;36m<module>\u001b[0;34m\u001b[0m\n\u001b[0;32m----> 1\u001b[0;31m \u001b[0md1\u001b[0m \u001b[0;34m=\u001b[0m \u001b[0mmin\u001b[0m\u001b[0;34m(\u001b[0m\u001b[0mR\u001b[0m\u001b[0;34m)\u001b[0m\u001b[0;34m\u001b[0m\u001b[0m\n\u001b[0m",
      "\u001b[0;31mValueError\u001b[0m: The truth value of an array with more than one element is ambiguous. Use a.any() or a.all()"
     ]
    }
   ],
   "source": [
    "d1 = min(R)"
   ]
  },
  {
   "cell_type": "code",
   "execution_count": null,
   "metadata": {},
   "outputs": [],
   "source": [
    "d1"
   ]
  },
  {
   "cell_type": "code",
   "execution_count": null,
   "metadata": {},
   "outputs": [],
   "source": []
  },
  {
   "cell_type": "code",
   "execution_count": null,
   "metadata": {},
   "outputs": [],
   "source": [
    "ssd2 = sum(img2**2-img1**2)"
   ]
  },
  {
   "cell_type": "code",
   "execution_count": null,
   "metadata": {},
   "outputs": [],
   "source": [
    "ssd2"
   ]
  },
  {
   "cell_type": "code",
   "execution_count": null,
   "metadata": {},
   "outputs": [],
   "source": [
    "men2 = img2.mean() - img1.mean()"
   ]
  },
  {
   "cell_type": "code",
   "execution_count": null,
   "metadata": {},
   "outputs": [],
   "source": [
    "men2"
   ]
  },
  {
   "cell_type": "code",
   "execution_count": null,
   "metadata": {},
   "outputs": [],
   "source": [
    "R1 = ssd2 / N - (men2**2)"
   ]
  },
  {
   "cell_type": "code",
   "execution_count": null,
   "metadata": {},
   "outputs": [],
   "source": [
    "R1"
   ]
  },
  {
   "cell_type": "code",
   "execution_count": null,
   "metadata": {},
   "outputs": [],
   "source": [
    "d2 = min(R)"
   ]
  },
  {
   "cell_type": "code",
   "execution_count": null,
   "metadata": {},
   "outputs": [],
   "source": [
    "d2"
   ]
  },
  {
   "cell_type": "code",
   "execution_count": null,
   "metadata": {},
   "outputs": [],
   "source": []
  }
 ],
 "metadata": {
  "kernelspec": {
   "display_name": "Python 3",
   "language": "python",
   "name": "python3"
  },
  "language_info": {
   "codemirror_mode": {
    "name": "ipython",
    "version": 3
   },
   "file_extension": ".py",
   "mimetype": "text/x-python",
   "name": "python",
   "nbconvert_exporter": "python",
   "pygments_lexer": "ipython3",
   "version": "3.7.0"
  }
 },
 "nbformat": 4,
 "nbformat_minor": 2
}
