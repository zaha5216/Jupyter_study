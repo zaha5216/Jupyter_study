{
 "cells": [
  {
   "cell_type": "code",
   "execution_count": null,
   "metadata": {},
   "outputs": [],
   "source": [
    "import cv2\n",
    "import numpy as np\n",
    "\n",
    "data = np.uint8(np.array([[i]*255 for i in range(255)]))\n",
    "\n",
    "ret,thresh1 = cv2.threshold(data,127,255,cv2.THRESH_BINARY)\n",
    "ret,thresh2 = cv2.threshold(data,127,255,cv2.THRESH_BINARY_INV)\n",
    "ret,thresh3 = cv2.threshold(data,127,255,cv2.THRESH_TRUNC)\n",
    "ret,thresh4 = cv2.threshold(data,127,255,cv2.THRESH_TOZERO)\n",
    "ret,thresh5 = cv2.threshold(data,127,255,cv2.THRESH_TOZERO_INV)\n",
    "\n",
    "titles = ['Original image','BINARY','BINARY_INV','TRUNC','TOZERO','TOZERO_INV']\n",
    "images = [data, thresh1, thresh2, thresh3, thresh4, thresh5]\n",
    "\n",
    "for i in np.arange(6):\n",
    "    cv2.imshow(titles[i],images[i])\n",
    "cv2.waitKey(0)\n",
    "cv2.destoyAllWindows()\n"
   ]
  },
  {
   "cell_type": "code",
   "execution_count": null,
   "metadata": {},
   "outputs": [],
   "source": []
  }
 ],
 "metadata": {
  "kernelspec": {
   "display_name": "Python 3",
   "language": "python",
   "name": "python3"
  },
  "language_info": {
   "codemirror_mode": {
    "name": "ipython",
    "version": 3
   },
   "file_extension": ".py",
   "mimetype": "text/x-python",
   "name": "python",
   "nbconvert_exporter": "python",
   "pygments_lexer": "ipython3",
   "version": "3.7.0"
  }
 },
 "nbformat": 4,
 "nbformat_minor": 2
}
