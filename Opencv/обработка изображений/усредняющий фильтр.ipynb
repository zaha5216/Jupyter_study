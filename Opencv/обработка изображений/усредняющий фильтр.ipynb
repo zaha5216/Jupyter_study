{
 "cells": [
  {
   "cell_type": "code",
   "execution_count": null,
   "metadata": {},
   "outputs": [],
   "source": [
    "import numpy as np\n",
    "import cv2\n",
    "\n",
    "img = cv2.imread('/Users/zaha/Documents/budda.jpg')\n",
    "\n",
    "dst = cv2.blur(img,(5,5))\n",
    "\n",
    "MY_VIEW = cv2.WINDOW_NORMAL|cv2.WINDOW_AUTOSIZE\n",
    "cv2.namedWindow('origanal',MY_VIEW)\n",
    "cv2.imshow('original',img)\n",
    "cv2.namedWindow('result',MY_VIEW)\n",
    "cv2.imshow('result',dst)\n",
    "\n",
    "cv2.waitKey(0)\n",
    "cv2.destroyAllWindiws()"
   ]
  },
  {
   "cell_type": "code",
   "execution_count": null,
   "metadata": {},
   "outputs": [],
   "source": []
  },
  {
   "cell_type": "code",
   "execution_count": null,
   "metadata": {},
   "outputs": [],
   "source": []
  }
 ],
 "metadata": {
  "kernelspec": {
   "display_name": "Python 3",
   "language": "python",
   "name": "python3"
  },
  "language_info": {
   "codemirror_mode": {
    "name": "ipython",
    "version": 3
   },
   "file_extension": ".py",
   "mimetype": "text/x-python",
   "name": "python",
   "nbconvert_exporter": "python",
   "pygments_lexer": "ipython3",
   "version": "3.7.0"
  }
 },
 "nbformat": 4,
 "nbformat_minor": 2
}
