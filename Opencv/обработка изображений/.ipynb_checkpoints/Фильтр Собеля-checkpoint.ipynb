{
 "cells": [
  {
   "cell_type": "code",
   "execution_count": null,
   "metadata": {},
   "outputs": [],
   "source": [
    "import cv2\n",
    "import numpy as np\n",
    "\n",
    "img1 = cv2.imread('/Users/zaha/Documents/logo.jpg',0)\n",
    "sobelx = cv2.Sobel(img1,cv2.CV_64F,1,0,ksize=5)\n",
    "sobely = cv2.Sobel(img1,cv2.CV_64F,0,1,ksize=5)\n",
    "\n",
    "MY_VIEW = cv2.WINDOW_NORMAL|cv2.WINDOW_AUTOSIZE\n",
    "cv2.namedWindow('img1',MY_VIEW)\n",
    "cv2.imshow('im1',img1)\n",
    "cv2.namedWindow('sobelx',MY_VIEW)\n",
    "cv2.imshow('sobelx',sobelx)\n",
    "cv2.namedWindow('sobely',MY_VIEW)\n",
    "cv2.imshow('sobely',sobelx)\n",
    "\n",
    "cv2.waitKey(0)\n",
    "cv2.destroyAllWindiws()"
   ]
  },
  {
   "cell_type": "code",
   "execution_count": null,
   "metadata": {},
   "outputs": [],
   "source": [
    "schar"
   ]
  },
  {
   "cell_type": "code",
   "execution_count": null,
   "metadata": {},
   "outputs": [],
   "source": []
  }
 ],
 "metadata": {
  "kernelspec": {
   "display_name": "Python 3",
   "language": "python",
   "name": "python3"
  },
  "language_info": {
   "codemirror_mode": {
    "name": "ipython",
    "version": 3
   },
   "file_extension": ".py",
   "mimetype": "text/x-python",
   "name": "python",
   "nbconvert_exporter": "python",
   "pygments_lexer": "ipython3",
   "version": "3.7.0"
  }
 },
 "nbformat": 4,
 "nbformat_minor": 2
}
