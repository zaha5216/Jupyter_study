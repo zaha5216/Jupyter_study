{
 "cells": [
  {
   "cell_type": "code",
   "execution_count": null,
   "metadata": {},
   "outputs": [],
   "source": [
    "import cv2\n",
    "import numpy as np\n",
    "\n",
    "img1 = cv2.imread('/Users/zaha/Documents/budda.jpg',0)\n",
    "lower_reso = cv2.pyrDown(img1)\n",
    "higher_reso = cv2.pyrUp(lower_reso)\n",
    "\n",
    "MY_VIEW = cv2.WINDOW_NORMAL|cv2.WINDOW_AUTOSIZE\n",
    "cv2.namedWindow('img1',MY_VIEW)\n",
    "cv2.imshow('img1',img1)\n",
    "cv2.namedWindow('lower_reso',MY_VIEW)\n",
    "cv2.imshow('lower_reso',lower_reso)\n",
    "cv2.namedWindow('higher_reso',MY_VIEW)\n",
    "cv2.imshow('higher_reso',higher_reso)\n",
    "\n",
    "cv2.waitKey(0)\n",
    "cv2.destroyAllWindiws()"
   ]
  },
  {
   "cell_type": "code",
   "execution_count": null,
   "metadata": {},
   "outputs": [],
   "source": []
  }
 ],
 "metadata": {
  "kernelspec": {
   "display_name": "Python 3",
   "language": "python",
   "name": "python3"
  },
  "language_info": {
   "codemirror_mode": {
    "name": "ipython",
    "version": 3
   },
   "file_extension": ".py",
   "mimetype": "text/x-python",
   "name": "python",
   "nbconvert_exporter": "python",
   "pygments_lexer": "ipython3",
   "version": "3.7.0"
  }
 },
 "nbformat": 4,
 "nbformat_minor": 2
}
