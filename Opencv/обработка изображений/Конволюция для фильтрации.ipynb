{
 "cells": [
  {
   "cell_type": "code",
   "execution_count": null,
   "metadata": {},
   "outputs": [],
   "source": [
    "import cv2\n",
    "import numpy as np \n",
    "img = cv2.imread('/Users/zaha/Documents/budda.jpg',0)\n",
    "\n",
    "kernel = np.ones((5,5),np.float32)/25\n",
    "dst = cv2.filter2D(img,-1,kernel)\n",
    "\n",
    "MY_VIEW = cv2.WINDOW_NORMAL|cv2.WINDOW_AUTOSIZE\n",
    "cv2.namedWindow('origanal',MY_VIEW)\n",
    "cv2.imshow('original',img)\n",
    "cv2.namedWindow('result',MY_VIEW)\n",
    "cv2.imshow('result',dst)\n",
    "\n",
    "cv2.waitKey(0)\n",
    "cv2.destroyAllWindiws()"
   ]
  },
  {
   "cell_type": "code",
   "execution_count": null,
   "metadata": {},
   "outputs": [],
   "source": [
    "kernel"
   ]
  },
  {
   "cell_type": "code",
   "execution_count": null,
   "metadata": {},
   "outputs": [],
   "source": []
  }
 ],
 "metadata": {
  "kernelspec": {
   "display_name": "Python 3",
   "language": "python",
   "name": "python3"
  },
  "language_info": {
   "codemirror_mode": {
    "name": "ipython",
    "version": 3
   },
   "file_extension": ".py",
   "mimetype": "text/x-python",
   "name": "python",
   "nbconvert_exporter": "python",
   "pygments_lexer": "ipython3",
   "version": "3.7.0"
  }
 },
 "nbformat": 4,
 "nbformat_minor": 2
}
