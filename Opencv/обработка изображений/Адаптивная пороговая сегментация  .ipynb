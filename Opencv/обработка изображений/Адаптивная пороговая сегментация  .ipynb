{
 "cells": [
  {
   "cell_type": "code",
   "execution_count": null,
   "metadata": {},
   "outputs": [],
   "source": [
    "import cv2\n",
    "import numpy as np\n",
    "\n",
    "img = cv2.imread('/Users/zaha/Documents/budda.jpg',0)\n",
    " \n",
    "ret,th1 = cv2.threshold(img,63,255,cv2.THRESH_BINARY)\n",
    "th2 = cv2.adaptiveThreshold(img,255,cv2.ADAPTIVE_THRESH_MEAN_C,\\\n",
    "                            cv2.THRESH_BINARY,11,2)\n",
    "th3 = cv2.adaptiveThreshold(img,255,cv2.ADAPTIVE_THRESH_GAUSSIAN_C,\\\n",
    "                            cv2.THRESH_BINARY,11,2)\n",
    "\n",
    "titles = ['Original image','GLOBAL,','ADAPTIVE_THRESH_MEAN_C',\n",
    "          'ADAPTIVE_THRESH_GAUSSIAN_C']\n",
    "images = [img, th1, th2, th3]\n",
    "MY_VIEW = cv2.WINDOW_NORMAL|cv2.WINDOW_GUI_EXPANDED\n",
    "\n",
    "for i in np.arange(4):\n",
    "    cv2.namedWindow(titles[i],MY_VIEW)\n",
    "    cv2.imshow(titles[i],images[i])\n",
    "cv2.waitKey(0)\n",
    "cv2.destroyAllWindows()"
   ]
  },
  {
   "cell_type": "code",
   "execution_count": null,
   "metadata": {},
   "outputs": [],
   "source": [
    "import cv2"
   ]
  },
  {
   "cell_type": "raw",
   "metadata": {},
   "source": []
  },
  {
   "cell_type": "code",
   "execution_count": null,
   "metadata": {},
   "outputs": [],
   "source": []
  }
 ],
 "metadata": {
  "kernelspec": {
   "display_name": "Python 3",
   "language": "python",
   "name": "python3"
  },
  "language_info": {
   "codemirror_mode": {
    "name": "ipython",
    "version": 3
   },
   "file_extension": ".py",
   "mimetype": "text/x-python",
   "name": "python",
   "nbconvert_exporter": "python",
   "pygments_lexer": "ipython3",
   "version": "3.7.0"
  }
 },
 "nbformat": 4,
 "nbformat_minor": 2
}
