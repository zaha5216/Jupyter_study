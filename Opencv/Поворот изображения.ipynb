{
 "cells": [
  {
   "cell_type": "code",
   "execution_count": null,
   "metadata": {},
   "outputs": [],
   "source": [
    "import cv2\n",
    "import numpy as np\n",
    "\n",
    "img = cv2.imread('/Users/zaha/Documents/budda.jpg')\n",
    "\n",
    "#Узнаем размер изображения\n",
    "# Создаем матрицу с углом поворта 45градусов размер тот же\n",
    "#Выполилили поворот\n",
    "rows,cols,channels = img.shape\n",
    "M = cv2.getRotationMatrix2D((cols/2,rows/2),45,1)\n",
    "dst = cv2.warpAffine(img,M,(cols,rows))\n",
    "\n",
    "MY_VIEW = cv2.WINDOW_NORMAL|cv2.WINDOW_KEEPRATIO\n",
    "\n",
    "cv2.namedWindow('img',MY_VIEW)\n",
    "cv2.imshow('img',img)\n",
    "cv2.namedWindow('dst',MY_VIEW)\n",
    "cv2.imshow('dst',dst)\n",
    "cv2.waitKey(0)\n",
    "cv2.destroyAllWindows()\n",
    "..."
   ]
  },
  {
   "cell_type": "code",
   "execution_count": null,
   "metadata": {},
   "outputs": [],
   "source": []
  }
 ],
 "metadata": {
  "kernelspec": {
   "display_name": "Python 3",
   "language": "python",
   "name": "python3"
  },
  "language_info": {
   "codemirror_mode": {
    "name": "ipython",
    "version": 3
   },
   "file_extension": ".py",
   "mimetype": "text/x-python",
   "name": "python",
   "nbconvert_exporter": "python",
   "pygments_lexer": "ipython3",
   "version": "3.7.0"
  }
 },
 "nbformat": 4,
 "nbformat_minor": 2
}
