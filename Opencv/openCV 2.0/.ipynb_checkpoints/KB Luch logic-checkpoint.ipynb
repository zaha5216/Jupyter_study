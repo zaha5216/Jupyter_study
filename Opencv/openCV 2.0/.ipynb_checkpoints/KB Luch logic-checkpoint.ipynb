{
 "cells": [
  {
   "cell_type": "code",
   "execution_count": 1,
   "metadata": {},
   "outputs": [],
   "source": [
    "import numpy as np\n",
    "import cv2\n",
    "from skimage import img_as_float\n",
    "%matplotlib inline\n",
    "from skimage.io import imread, imshow, imsave\n",
    "import pandas as pd\n",
    "# Загрузка цветного изображения как полутонового  в виде табицы\n",
    "img1 = cv2.imread('/Users/zaha/Downloads/КБ Луч/1.png',0)\n",
    "img2 = cv2.imread('/Users/zaha/Downloads/КБ Луч/2.png',0)"
   ]
  },
  {
   "cell_type": "code",
   "execution_count": 2,
   "metadata": {},
   "outputs": [
    {
     "data": {
      "text/plain": [
       "(750, 1000)"
      ]
     },
     "execution_count": 2,
     "metadata": {},
     "output_type": "execute_result"
    }
   ],
   "source": [
    "img1.shape # ( Строки,Столбы,кол-во каналовRGB)"
   ]
  },
  {
   "cell_type": "code",
   "execution_count": 3,
   "metadata": {},
   "outputs": [
    {
     "data": {
      "text/plain": [
       "(750, 1000)"
      ]
     },
     "execution_count": 3,
     "metadata": {},
     "output_type": "execute_result"
    }
   ],
   "source": [
    "img2.shape # ( Строки,Столбы,кол-во каналовRGB)"
   ]
  },
  {
   "cell_type": "code",
   "execution_count": 4,
   "metadata": {},
   "outputs": [
    {
     "data": {
      "text/plain": [
       "750000"
      ]
     },
     "execution_count": 4,
     "metadata": {},
     "output_type": "execute_result"
    }
   ],
   "source": [
    "img2.size"
   ]
  },
  {
   "cell_type": "code",
   "execution_count": 5,
   "metadata": {},
   "outputs": [
    {
     "data": {
      "text/plain": [
       "dtype('uint8')"
      ]
     },
     "execution_count": 5,
     "metadata": {},
     "output_type": "execute_result"
    }
   ],
   "source": [
    "img1.dtype"
   ]
  },
  {
   "cell_type": "code",
   "execution_count": 6,
   "metadata": {},
   "outputs": [
    {
     "data": {
      "text/plain": [
       "dtype('uint8')"
      ]
     },
     "execution_count": 6,
     "metadata": {},
     "output_type": "execute_result"
    }
   ],
   "source": [
    "img2.dtype"
   ]
  },
  {
   "cell_type": "code",
   "execution_count": 53,
   "metadata": {},
   "outputs": [],
   "source": [
    "diap = [img1+283, img1+311]\n",
    "img2 = diap"
   ]
  },
  {
   "cell_type": "code",
   "execution_count": 54,
   "metadata": {},
   "outputs": [],
   "source": [
    "img1 = img1[:]"
   ]
  },
  {
   "cell_type": "code",
   "execution_count": 55,
   "metadata": {
    "scrolled": true
   },
   "outputs": [
    {
     "data": {
      "text/plain": [
       "array([[[201, 201, 201, ..., 201, 201, 201],\n",
       "        [201, 201, 201, ..., 201, 201, 201],\n",
       "        [201, 201, 201, ..., 201, 201, 201],\n",
       "        ...,\n",
       "        [201, 201, 201, ..., 201, 201, 201],\n",
       "        [201, 201, 201, ..., 201, 201, 201],\n",
       "        [201, 201, 201, ..., 201, 201, 201]],\n",
       "\n",
       "       [[231, 231, 231, ..., 231, 231, 231],\n",
       "        [231, 231, 231, ..., 231, 231, 231],\n",
       "        [231, 231, 231, ..., 231, 231, 231],\n",
       "        ...,\n",
       "        [231, 231, 231, ..., 231, 231, 231],\n",
       "        [231, 231, 231, ..., 231, 231, 231],\n",
       "        [231, 231, 231, ..., 231, 231, 231]]], dtype=uint8)"
      ]
     },
     "execution_count": 55,
     "metadata": {},
     "output_type": "execute_result"
    }
   ],
   "source": [
    "img1[:]"
   ]
  },
  {
   "cell_type": "code",
   "execution_count": 56,
   "metadata": {},
   "outputs": [],
   "source": [
    "img2 = np.asarray(img2, dtype=np.uint8)\n"
   ]
  },
  {
   "cell_type": "code",
   "execution_count": 57,
   "metadata": {},
   "outputs": [
    {
     "data": {
      "text/plain": [
       "array([[[[228, 228, 228, ..., 228, 228, 228],\n",
       "         [228, 228, 228, ..., 228, 228, 228],\n",
       "         [228, 228, 228, ..., 228, 228, 228],\n",
       "         ...,\n",
       "         [228, 228, 228, ..., 228, 228, 228],\n",
       "         [228, 228, 228, ..., 228, 228, 228],\n",
       "         [228, 228, 228, ..., 228, 228, 228]],\n",
       "\n",
       "        [[  2,   2,   2, ...,   2,   2,   2],\n",
       "         [  2,   2,   2, ...,   2,   2,   2],\n",
       "         [  2,   2,   2, ...,   2,   2,   2],\n",
       "         ...,\n",
       "         [  2,   2,   2, ...,   2,   2,   2],\n",
       "         [  2,   2,   2, ...,   2,   2,   2],\n",
       "         [  2,   2,   2, ...,   2,   2,   2]]],\n",
       "\n",
       "\n",
       "       [[[  0,   0,   0, ...,   0,   0,   0],\n",
       "         [  0,   0,   0, ...,   0,   0,   0],\n",
       "         [  0,   0,   0, ...,   0,   0,   0],\n",
       "         ...,\n",
       "         [  0,   0,   0, ...,   0,   0,   0],\n",
       "         [  0,   0,   0, ...,   0,   0,   0],\n",
       "         [  0,   0,   0, ...,   0,   0,   0]],\n",
       "\n",
       "        [[ 30,  30,  30, ...,  30,  30,  30],\n",
       "         [ 30,  30,  30, ...,  30,  30,  30],\n",
       "         [ 30,  30,  30, ...,  30,  30,  30],\n",
       "         ...,\n",
       "         [ 30,  30,  30, ...,  30,  30,  30],\n",
       "         [ 30,  30,  30, ...,  30,  30,  30],\n",
       "         [ 30,  30,  30, ...,  30,  30,  30]]]], dtype=uint8)"
      ]
     },
     "execution_count": 57,
     "metadata": {},
     "output_type": "execute_result"
    }
   ],
   "source": [
    "img2[:]"
   ]
  },
  {
   "cell_type": "code",
   "execution_count": 58,
   "metadata": {},
   "outputs": [
    {
     "data": {
      "text/plain": [
       "3000000"
      ]
     },
     "execution_count": 58,
     "metadata": {},
     "output_type": "execute_result"
    }
   ],
   "source": [
    "img2.size"
   ]
  },
  {
   "cell_type": "code",
   "execution_count": 59,
   "metadata": {},
   "outputs": [],
   "source": [
    "ssd = sum(img1**2-img2**2)"
   ]
  },
  {
   "cell_type": "code",
   "execution_count": null,
   "metadata": {},
   "outputs": [],
   "source": []
  },
  {
   "cell_type": "code",
   "execution_count": 13,
   "metadata": {},
   "outputs": [
    {
     "data": {
      "text/plain": [
       "array([[ 86,  86,  86, ...,  86,  86,  86],\n",
       "       [ 86,  86,  86, ...,  86,  86,  86],\n",
       "       [ 86,  86,  86, ...,  86,  86,  86],\n",
       "       ...,\n",
       "       [ 86,  86,  86, ...,  82,  82,  30],\n",
       "       [ 86,  86,  86, ...,  62, 226,  82],\n",
       "       [ 86,  86,  86, ...,  62, 226, 194]], dtype=uint8)"
      ]
     },
     "execution_count": 13,
     "metadata": {},
     "output_type": "execute_result"
    }
   ],
   "source": [
    "ssd"
   ]
  },
  {
   "cell_type": "code",
   "execution_count": 14,
   "metadata": {},
   "outputs": [
    {
     "data": {
      "text/plain": [
       "99.40254"
      ]
     },
     "execution_count": 14,
     "metadata": {},
     "output_type": "execute_result"
    }
   ],
   "source": [
    "img1.mean()"
   ]
  },
  {
   "cell_type": "code",
   "execution_count": null,
   "metadata": {},
   "outputs": [],
   "source": []
  },
  {
   "cell_type": "code",
   "execution_count": null,
   "metadata": {},
   "outputs": [],
   "source": []
  },
  {
   "cell_type": "code",
   "execution_count": 15,
   "metadata": {},
   "outputs": [
    {
     "data": {
      "text/plain": [
       "122.19257733333333"
      ]
     },
     "execution_count": 15,
     "metadata": {},
     "output_type": "execute_result"
    }
   ],
   "source": [
    "img2.mean()"
   ]
  },
  {
   "cell_type": "code",
   "execution_count": 16,
   "metadata": {},
   "outputs": [],
   "source": [
    "men = img1.mean() - img2.mean()"
   ]
  },
  {
   "cell_type": "code",
   "execution_count": 17,
   "metadata": {},
   "outputs": [
    {
     "data": {
      "text/plain": [
       "-22.79003733333333"
      ]
     },
     "execution_count": 17,
     "metadata": {},
     "output_type": "execute_result"
    }
   ],
   "source": [
    "men"
   ]
  },
  {
   "cell_type": "code",
   "execution_count": 18,
   "metadata": {},
   "outputs": [],
   "source": [
    "N = 49"
   ]
  },
  {
   "cell_type": "code",
   "execution_count": 19,
   "metadata": {},
   "outputs": [],
   "source": [
    "R = ssd / N - (men**2)"
   ]
  },
  {
   "cell_type": "code",
   "execution_count": 20,
   "metadata": {},
   "outputs": [
    {
     "data": {
      "text/plain": [
       "array([[-517.63069961, -517.63069961, -517.63069961, ..., -517.63069961,\n",
       "        -517.63069961, -517.63069961],\n",
       "       [-517.63069961, -517.63069961, -517.63069961, ..., -517.63069961,\n",
       "        -517.63069961, -517.63069961],\n",
       "       [-517.63069961, -517.63069961, -517.63069961, ..., -517.63069961,\n",
       "        -517.63069961, -517.63069961],\n",
       "       ...,\n",
       "       [-517.63069961, -517.63069961, -517.63069961, ..., -517.71233227,\n",
       "        -517.71233227, -518.77355676],\n",
       "       [-517.63069961, -517.63069961, -517.63069961, ..., -518.12049553,\n",
       "        -514.77355676, -517.71233227],\n",
       "       [-517.63069961, -517.63069961, -517.63069961, ..., -518.12049553,\n",
       "        -514.77355676, -515.42661798]])"
      ]
     },
     "execution_count": 20,
     "metadata": {},
     "output_type": "execute_result"
    }
   ],
   "source": [
    "R"
   ]
  },
  {
   "cell_type": "code",
   "execution_count": 21,
   "metadata": {},
   "outputs": [],
   "source": [
    "R = np.asarray(R, dtype=np.uint8)"
   ]
  },
  {
   "cell_type": "code",
   "execution_count": 22,
   "metadata": {},
   "outputs": [
    {
     "data": {
      "text/plain": [
       "array([[251, 251, 251, ..., 251, 251, 251],\n",
       "       [251, 251, 251, ..., 251, 251, 251],\n",
       "       [251, 251, 251, ..., 251, 251, 251],\n",
       "       ...,\n",
       "       [251, 251, 251, ..., 251, 251, 250],\n",
       "       [251, 251, 251, ..., 250, 254, 251],\n",
       "       [251, 251, 251, ..., 250, 254, 253]], dtype=uint8)"
      ]
     },
     "execution_count": 22,
     "metadata": {},
     "output_type": "execute_result"
    }
   ],
   "source": [
    "R"
   ]
  },
  {
   "cell_type": "code",
   "execution_count": 23,
   "metadata": {},
   "outputs": [],
   "source": [
    "d1 = np.amin(R)"
   ]
  },
  {
   "cell_type": "code",
   "execution_count": 24,
   "metadata": {},
   "outputs": [
    {
     "data": {
      "text/plain": [
       "249"
      ]
     },
     "execution_count": 24,
     "metadata": {},
     "output_type": "execute_result"
    }
   ],
   "source": [
    "d1 ##!!!!!"
   ]
  },
  {
   "cell_type": "code",
   "execution_count": 25,
   "metadata": {},
   "outputs": [
    {
     "data": {
      "text/plain": [
       "750000"
      ]
     },
     "execution_count": 25,
     "metadata": {},
     "output_type": "execute_result"
    }
   ],
   "source": [
    "R.size"
   ]
  },
  {
   "cell_type": "code",
   "execution_count": 26,
   "metadata": {},
   "outputs": [
    {
     "ename": "SyntaxError",
     "evalue": "unexpected EOF while parsing (<ipython-input-26-b3b6261705ef>, line 1)",
     "output_type": "error",
     "traceback": [
      "\u001b[0;36m  File \u001b[0;32m\"<ipython-input-26-b3b6261705ef>\"\u001b[0;36m, line \u001b[0;32m1\u001b[0m\n\u001b[0;31m    imshow(\u001b[0m\n\u001b[0m           ^\u001b[0m\n\u001b[0;31mSyntaxError\u001b[0m\u001b[0;31m:\u001b[0m unexpected EOF while parsing\n"
     ]
    }
   ],
   "source": [
    "imshow("
   ]
  },
  {
   "cell_type": "code",
   "execution_count": 27,
   "metadata": {},
   "outputs": [],
   "source": [
    "import numpy as np\n",
    "import cv2\n",
    "from skimage import img_as_float\n",
    "%matplotlib inline\n",
    "from skimage.io import imread, imshow, imsave\n",
    "\n",
    "# Загрузка цветного изображения как полутонового  в виде табицы\n",
    "img1 = cv2.imread('/Users/zaha/Downloads/КБ Луч/1.png',0)\n",
    "img2 = cv2.imread('/Users/zaha/Downloads/КБ Луч/2.png',0)"
   ]
  },
  {
   "cell_type": "code",
   "execution_count": 28,
   "metadata": {},
   "outputs": [],
   "source": [
    "diap = (img2-311, img2-281)\n",
    "img1 = diap"
   ]
  },
  {
   "cell_type": "code",
   "execution_count": 29,
   "metadata": {},
   "outputs": [
    {
     "data": {
      "text/plain": [
       "(array([[65225, 65225, 65225, ..., 65225, 65225, 65225],\n",
       "        [65225, 65225, 65225, ..., 65225, 65225, 65225],\n",
       "        [65225, 65225, 65225, ..., 65225, 65225, 65225],\n",
       "        ...,\n",
       "        [65225, 65225, 65225, ..., 65225, 65225, 65225],\n",
       "        [65225, 65225, 65225, ..., 65225, 65225, 65225],\n",
       "        [65225, 65225, 65225, ..., 65225, 65225, 65225]], dtype=uint16),\n",
       " array([[65255, 65255, 65255, ..., 65255, 65255, 65255],\n",
       "        [65255, 65255, 65255, ..., 65255, 65255, 65255],\n",
       "        [65255, 65255, 65255, ..., 65255, 65255, 65255],\n",
       "        ...,\n",
       "        [65255, 65255, 65255, ..., 65255, 65255, 65255],\n",
       "        [65255, 65255, 65255, ..., 65255, 65255, 65255],\n",
       "        [65255, 65255, 65255, ..., 65255, 65255, 65255]], dtype=uint16))"
      ]
     },
     "execution_count": 29,
     "metadata": {},
     "output_type": "execute_result"
    }
   ],
   "source": [
    "img1"
   ]
  },
  {
   "cell_type": "code",
   "execution_count": 30,
   "metadata": {},
   "outputs": [],
   "source": [
    "img1 = np.asarray(img1, dtype=np.uint8)\n"
   ]
  },
  {
   "cell_type": "code",
   "execution_count": 31,
   "metadata": {},
   "outputs": [
    {
     "data": {
      "text/plain": [
       "array([[[201, 201, 201, ..., 201, 201, 201],\n",
       "        [201, 201, 201, ..., 201, 201, 201],\n",
       "        [201, 201, 201, ..., 201, 201, 201],\n",
       "        ...,\n",
       "        [201, 201, 201, ..., 201, 201, 201],\n",
       "        [201, 201, 201, ..., 201, 201, 201],\n",
       "        [201, 201, 201, ..., 201, 201, 201]],\n",
       "\n",
       "       [[231, 231, 231, ..., 231, 231, 231],\n",
       "        [231, 231, 231, ..., 231, 231, 231],\n",
       "        [231, 231, 231, ..., 231, 231, 231],\n",
       "        ...,\n",
       "        [231, 231, 231, ..., 231, 231, 231],\n",
       "        [231, 231, 231, ..., 231, 231, 231],\n",
       "        [231, 231, 231, ..., 231, 231, 231]]], dtype=uint8)"
      ]
     },
     "execution_count": 31,
     "metadata": {},
     "output_type": "execute_result"
    }
   ],
   "source": [
    "img1[:]"
   ]
  },
  {
   "cell_type": "code",
   "execution_count": 32,
   "metadata": {},
   "outputs": [],
   "source": [
    "ssd2 = sum(img1**2-img2**2)"
   ]
  },
  {
   "cell_type": "code",
   "execution_count": 33,
   "metadata": {},
   "outputs": [
    {
     "data": {
      "text/plain": [
       "array([[66, 66, 66, ..., 66, 66, 66],\n",
       "       [66, 66, 66, ..., 66, 66, 66],\n",
       "       [66, 66, 66, ..., 66, 66, 66],\n",
       "       ...,\n",
       "       [66, 66, 66, ..., 66, 66, 66],\n",
       "       [66, 66, 66, ..., 66, 66, 66],\n",
       "       [66, 66, 66, ..., 66, 66, 66]], dtype=uint8)"
      ]
     },
     "execution_count": 33,
     "metadata": {},
     "output_type": "execute_result"
    }
   ],
   "source": [
    "ssd2"
   ]
  },
  {
   "cell_type": "code",
   "execution_count": 34,
   "metadata": {},
   "outputs": [
    {
     "data": {
      "text/plain": [
       "91.09624533333333"
      ]
     },
     "execution_count": 34,
     "metadata": {},
     "output_type": "execute_result"
    }
   ],
   "source": [
    "img2.mean()"
   ]
  },
  {
   "cell_type": "code",
   "execution_count": 35,
   "metadata": {},
   "outputs": [
    {
     "data": {
      "text/plain": [
       "123.82567466666667"
      ]
     },
     "execution_count": 35,
     "metadata": {},
     "output_type": "execute_result"
    }
   ],
   "source": [
    "img1.mean()"
   ]
  },
  {
   "cell_type": "code",
   "execution_count": 36,
   "metadata": {},
   "outputs": [],
   "source": [
    "men2 = img1.mean() - img2.mean()"
   ]
  },
  {
   "cell_type": "code",
   "execution_count": 37,
   "metadata": {},
   "outputs": [
    {
     "data": {
      "text/plain": [
       "32.72942933333334"
      ]
     },
     "execution_count": 37,
     "metadata": {},
     "output_type": "execute_result"
    }
   ],
   "source": [
    "men2"
   ]
  },
  {
   "cell_type": "code",
   "execution_count": 38,
   "metadata": {},
   "outputs": [],
   "source": [
    "N = 49"
   ]
  },
  {
   "cell_type": "code",
   "execution_count": 39,
   "metadata": {},
   "outputs": [],
   "source": [
    "R2 = ssd2 / N - (men2**2)"
   ]
  },
  {
   "cell_type": "code",
   "execution_count": 40,
   "metadata": {},
   "outputs": [
    {
     "data": {
      "text/plain": [
       "array([[-1069.86860571, -1069.86860571, -1069.86860571, ...,\n",
       "        -1069.86860571, -1069.86860571, -1069.86860571],\n",
       "       [-1069.86860571, -1069.86860571, -1069.86860571, ...,\n",
       "        -1069.86860571, -1069.86860571, -1069.86860571],\n",
       "       [-1069.86860571, -1069.86860571, -1069.86860571, ...,\n",
       "        -1069.86860571, -1069.86860571, -1069.86860571],\n",
       "       ...,\n",
       "       [-1069.86860571, -1069.86860571, -1069.86860571, ...,\n",
       "        -1069.86860571, -1069.86860571, -1069.86860571],\n",
       "       [-1069.86860571, -1069.86860571, -1069.86860571, ...,\n",
       "        -1069.86860571, -1069.86860571, -1069.86860571],\n",
       "       [-1069.86860571, -1069.86860571, -1069.86860571, ...,\n",
       "        -1069.86860571, -1069.86860571, -1069.86860571]])"
      ]
     },
     "execution_count": 40,
     "metadata": {},
     "output_type": "execute_result"
    }
   ],
   "source": [
    "R2"
   ]
  },
  {
   "cell_type": "code",
   "execution_count": 41,
   "metadata": {},
   "outputs": [],
   "source": [
    "R2 = np.asarray(R2, dtype=np.uint8)"
   ]
  },
  {
   "cell_type": "code",
   "execution_count": 42,
   "metadata": {},
   "outputs": [
    {
     "data": {
      "text/plain": [
       "array([[211, 211, 211, ..., 211, 211, 211],\n",
       "       [211, 211, 211, ..., 211, 211, 211],\n",
       "       [211, 211, 211, ..., 211, 211, 211],\n",
       "       ...,\n",
       "       [211, 211, 211, ..., 211, 211, 211],\n",
       "       [211, 211, 211, ..., 211, 211, 211],\n",
       "       [211, 211, 211, ..., 211, 211, 211]], dtype=uint8)"
      ]
     },
     "execution_count": 42,
     "metadata": {},
     "output_type": "execute_result"
    }
   ],
   "source": [
    "R2"
   ]
  },
  {
   "cell_type": "code",
   "execution_count": 43,
   "metadata": {},
   "outputs": [],
   "source": [
    "d2 = np.amin(R2)"
   ]
  },
  {
   "cell_type": "code",
   "execution_count": 44,
   "metadata": {},
   "outputs": [
    {
     "data": {
      "text/plain": [
       "209"
      ]
     },
     "execution_count": 44,
     "metadata": {},
     "output_type": "execute_result"
    }
   ],
   "source": [
    "d2"
   ]
  },
  {
   "cell_type": "code",
   "execution_count": 45,
   "metadata": {},
   "outputs": [
    {
     "data": {
      "text/plain": [
       "(750, 1000)"
      ]
     },
     "execution_count": 45,
     "metadata": {},
     "output_type": "execute_result"
    }
   ],
   "source": [
    "R.shape\n"
   ]
  },
  {
   "cell_type": "code",
   "execution_count": 46,
   "metadata": {},
   "outputs": [
    {
     "data": {
      "text/plain": [
       "(750, 1000)"
      ]
     },
     "execution_count": 46,
     "metadata": {},
     "output_type": "execute_result"
    }
   ],
   "source": [
    "R2.shape"
   ]
  },
  {
   "cell_type": "code",
   "execution_count": 47,
   "metadata": {},
   "outputs": [],
   "source": [
    "R3 = img1 + d1 + d2"
   ]
  },
  {
   "cell_type": "code",
   "execution_count": 51,
   "metadata": {},
   "outputs": [
    {
     "data": {
      "text/plain": [
       "1500000"
      ]
     },
     "execution_count": 51,
     "metadata": {},
     "output_type": "execute_result"
    }
   ],
   "source": [
    "result=list(set(img1) & set(img1))"
   ]
  },
  {
   "cell_type": "code",
   "execution_count": null,
   "metadata": {},
   "outputs": [],
   "source": []
  },
  {
   "cell_type": "code",
   "execution_count": null,
   "metadata": {},
   "outputs": [],
   "source": []
  },
  {
   "cell_type": "code",
   "execution_count": null,
   "metadata": {},
   "outputs": [],
   "source": [
    "rows,cols = R.shape\n",
    "M = np.float32([[1,0,100],[0,1,50]])\n",
    "dst = cv2.warpAffine(R,M,(cols + 283 + 311,rows))"
   ]
  },
  {
   "cell_type": "code",
   "execution_count": null,
   "metadata": {},
   "outputs": [],
   "source": [
    "MY_VIEW = cv2.WINDOW_NORMAL|cv2.WINDOW_KEEPRATIO\n",
    "\n",
    "cv2.namedWindow('img',MY_VIEW)\n",
    "cv2.imshow('img',R)\n",
    "cv2.namedWindow('dst',MY_VIEW)\n",
    "cv2.imshow('dst',dst)\n",
    "cv2.waitKey(0)\n"
   ]
  },
  {
   "cell_type": "code",
   "execution_count": null,
   "metadata": {},
   "outputs": [],
   "source": []
  },
  {
   "cell_type": "code",
   "execution_count": null,
   "metadata": {},
   "outputs": [],
   "source": []
  },
  {
   "cell_type": "code",
   "execution_count": null,
   "metadata": {},
   "outputs": [],
   "source": [
    "\n",
    "imageSize = np.min(imageShape, axis = 0)\n",
    "print(imageSize)\n",
    "img1Crop = R[0:imageSize[0],0:imageSize[1],:].copy()\n",
    "img2Crop = R2[0:imageSize[0],0:imageSize[1],:].copy()\n",
    "\n",
    "dst = cv2.addWeighted(img1Crop,0.3,img2Crop,0.7,0)"
   ]
  },
  {
   "cell_type": "code",
   "execution_count": null,
   "metadata": {},
   "outputs": [],
   "source": [
    "cv2.namedWindow('image',cv2.WINDOW_NORMAL)\n",
    "cv2.imshow('image',R)\n",
    "cv2.waitKey(0)\n",
    "cv2.destroyAllWindows()"
   ]
  },
  {
   "cell_type": "code",
   "execution_count": null,
   "metadata": {},
   "outputs": [],
   "source": [
    "import numpy as np\n",
    "import cv2\n",
    "from skimage import img_as_float\n",
    "%matplotlib inline\n",
    "from skimage.io import imread, imshow, imsave\n",
    "\n",
    "# Загрузка цветного изображения как полутонового  в виде табицы\n",
    "img1 = cv2.imread('/Users/zaha/Downloads/КБ Луч/1.png',0)\n",
    "img2 = cv2.imread('/Users/zaha/Downloads/КБ Луч/2.png',0)\n",
    "\n",
    "diap = (img2-311, img2-281)\n",
    "img1 = diap\n",
    "\n",
    "img1 = np.asarray(img1, dtype=np.uint8)\n",
    "\n",
    "ssd2 = sum(img1**2-img2**2)\n",
    "\n",
    "men2 = img1.mean() - img2.mean()\n",
    "N = 750000\n",
    "R2 = ssd2 / N - (men2**2)"
   ]
  },
  {
   "cell_type": "code",
   "execution_count": null,
   "metadata": {},
   "outputs": [],
   "source": [
    "R2 = np.asarray(R2, dtype=np.uint8)"
   ]
  },
  {
   "cell_type": "code",
   "execution_count": null,
   "metadata": {},
   "outputs": [],
   "source": [
    "R2"
   ]
  },
  {
   "cell_type": "code",
   "execution_count": null,
   "metadata": {},
   "outputs": [],
   "source": [
    "cv2.namedWindow('image',cv2.WINDOW_NORMAL)\n",
    "cv2.imshow('image',R)\n",
    "cv2.waitKey(0)\n",
    "cv2.destroyAllWindows()"
   ]
  },
  {
   "cell_type": "code",
   "execution_count": null,
   "metadata": {},
   "outputs": [],
   "source": []
  }
 ],
 "metadata": {
  "kernelspec": {
   "display_name": "Python 3",
   "language": "python",
   "name": "python3"
  },
  "language_info": {
   "codemirror_mode": {
    "name": "ipython",
    "version": 3
   },
   "file_extension": ".py",
   "mimetype": "text/x-python",
   "name": "python",
   "nbconvert_exporter": "python",
   "pygments_lexer": "ipython3",
   "version": "3.7.0"
  }
 },
 "nbformat": 4,
 "nbformat_minor": 2
}
