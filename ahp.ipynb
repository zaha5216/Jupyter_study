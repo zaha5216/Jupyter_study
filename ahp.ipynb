{
 "cells": [
  {
   "cell_type": "code",
   "execution_count": 1,
   "metadata": {},
   "outputs": [],
   "source": [
    "import numpy as np"
   ]
  },
  {
   "cell_type": "code",
   "execution_count": 2,
   "metadata": {},
   "outputs": [],
   "source": [
    "M1 = np.identity( 4,dtype=np.float32)"
   ]
  },
  {
   "cell_type": "code",
   "execution_count": 3,
   "metadata": {},
   "outputs": [
    {
     "data": {
      "text/plain": [
       "array([[1., 0., 0., 0.],\n",
       "       [0., 1., 0., 0.],\n",
       "       [0., 0., 1., 0.],\n",
       "       [0., 0., 0., 1.]], dtype=float32)"
      ]
     },
     "execution_count": 3,
     "metadata": {},
     "output_type": "execute_result"
    }
   ],
   "source": [
    "M1"
   ]
  },
  {
   "cell_type": "code",
   "execution_count": 16,
   "metadata": {},
   "outputs": [],
   "source": [
    "M1[1,3] = 1"
   ]
  },
  {
   "cell_type": "code",
   "execution_count": 18,
   "metadata": {},
   "outputs": [],
   "source": [
    "M1[3,2] = 3"
   ]
  },
  {
   "cell_type": "code",
   "execution_count": 19,
   "metadata": {},
   "outputs": [
    {
     "data": {
      "text/plain": [
       "array([[1., 3., 7., 7.],\n",
       "       [0., 1., 3., 1.],\n",
       "       [0., 0., 1., 0.],\n",
       "       [0., 0., 3., 1.]], dtype=float32)"
      ]
     },
     "execution_count": 19,
     "metadata": {},
     "output_type": "execute_result"
    }
   ],
   "source": [
    "M1"
   ]
  },
  {
   "cell_type": "code",
   "execution_count": 20,
   "metadata": {},
   "outputs": [],
   "source": [
    "from itertools import product"
   ]
  },
  {
   "cell_type": "code",
   "execution_count": 21,
   "metadata": {},
   "outputs": [],
   "source": [
    "def fill_zeros( M ):\n",
    "    R, C = M.shape\n",
    "    R = range(0,R)\n",
    "    C = range(0,C)\n",
    "    for i,k in product(R,C):\n",
    "        if M[i,k] == 0:\n",
    "            M[i,k] = 1/M[k,i]"
   ]
  },
  {
   "cell_type": "code",
   "execution_count": 22,
   "metadata": {},
   "outputs": [],
   "source": [
    "fill_zeros(M1)"
   ]
  },
  {
   "cell_type": "code",
   "execution_count": 23,
   "metadata": {},
   "outputs": [
    {
     "data": {
      "text/plain": [
       "array([[1.        , 3.        , 7.        , 7.        ],\n",
       "       [0.33333334, 1.        , 3.        , 1.        ],\n",
       "       [0.14285715, 0.33333334, 1.        , 0.33333334],\n",
       "       [0.14285715, 1.        , 3.        , 1.        ]], dtype=float32)"
      ]
     },
     "execution_count": 23,
     "metadata": {},
     "output_type": "execute_result"
    }
   ],
   "source": [
    "M1"
   ]
  },
  {
   "cell_type": "code",
   "execution_count": 25,
   "metadata": {},
   "outputs": [
    {
     "data": {
      "text/plain": [
       "(array([ 4.1267595e+00+0.j        , -6.3379698e-02+0.72047794j,\n",
       "        -6.3379698e-02-0.72047794j, -1.0518467e-08+0.j        ],\n",
       "       dtype=complex64),\n",
       " array([[ 9.3730772e-01+0.j        ,  9.6967179e-01+0.j        ,\n",
       "          9.6967179e-01-0.j        ,  6.0118047e-08+0.j        ],\n",
       "        [ 2.5808930e-01+0.j        , -9.4189398e-02-0.06367329j,\n",
       "         -9.4189398e-02+0.06367329j, -9.5257932e-01+0.j        ],\n",
       "        [ 9.3240224e-02+0.j        , -3.5126176e-02-0.06362246j,\n",
       "         -3.5126176e-02+0.06362246j,  2.7216554e-01+0.j        ],\n",
       "        [ 2.1482660e-01+0.j        , -7.1811132e-02+0.1907149j ,\n",
       "         -7.1811132e-02-0.1907149j ,  1.3608275e-01+0.j        ]],\n",
       "       dtype=complex64))"
      ]
     },
     "execution_count": 25,
     "metadata": {},
     "output_type": "execute_result"
    }
   ],
   "source": [
    "np.linalg.eig(M1)"
   ]
  },
  {
   "cell_type": "code",
   "execution_count": null,
   "metadata": {},
   "outputs": [],
   "source": []
  }
 ],
 "metadata": {
  "kernelspec": {
   "display_name": "Python 3",
   "language": "python",
   "name": "python3"
  },
  "language_info": {
   "codemirror_mode": {
    "name": "ipython",
    "version": 3
   },
   "file_extension": ".py",
   "mimetype": "text/x-python",
   "name": "python",
   "nbconvert_exporter": "python",
   "pygments_lexer": "ipython3",
   "version": "3.7.0"
  }
 },
 "nbformat": 4,
 "nbformat_minor": 2
}
