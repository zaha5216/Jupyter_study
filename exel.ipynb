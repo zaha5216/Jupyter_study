{
 "cells": [
  {
   "cell_type": "code",
   "execution_count": 1,
   "metadata": {},
   "outputs": [],
   "source": [
    "import openpyxl"
   ]
  },
  {
   "cell_type": "code",
   "execution_count": 2,
   "metadata": {},
   "outputs": [],
   "source": [
    "from os.path  import join, abspath"
   ]
  },
  {
   "cell_type": "code",
   "execution_count": 3,
   "metadata": {},
   "outputs": [],
   "source": [
    "import numpy as np"
   ]
  },
  {
   "cell_type": "code",
   "execution_count": 4,
   "metadata": {},
   "outputs": [],
   "source": [
    "filepath = join ( '..','zaha','Documents', 'work', 'Home1', 'data', 'line.xlsx')"
   ]
  },
  {
   "cell_type": "code",
   "execution_count": 5,
   "metadata": {
    "scrolled": true
   },
   "outputs": [
    {
     "data": {
      "text/plain": [
       "'../zaha/Documents/work/Home1/data/line.xlsx'"
      ]
     },
     "execution_count": 5,
     "metadata": {},
     "output_type": "execute_result"
    }
   ],
   "source": [
    "filepath"
   ]
  },
  {
   "cell_type": "code",
   "execution_count": 6,
   "metadata": {},
   "outputs": [],
   "source": [
    "filepath = abspath(filepath)"
   ]
  },
  {
   "cell_type": "code",
   "execution_count": 7,
   "metadata": {},
   "outputs": [
    {
     "data": {
      "text/plain": [
       "'/Users/zaha/Documents/work/Home1/data/line.xlsx'"
      ]
     },
     "execution_count": 7,
     "metadata": {},
     "output_type": "execute_result"
    }
   ],
   "source": [
    "filepath"
   ]
  },
  {
   "cell_type": "code",
   "execution_count": 8,
   "metadata": {},
   "outputs": [],
   "source": [
    "WB = openpyxl.load_workbook( filepath, read_only=True )"
   ]
  },
  {
   "cell_type": "code",
   "execution_count": 9,
   "metadata": {},
   "outputs": [
    {
     "data": {
      "text/plain": [
       "['Лист1', 'Лист2', 'Лист3', 'Лист4']"
      ]
     },
     "execution_count": 9,
     "metadata": {},
     "output_type": "execute_result"
    }
   ],
   "source": [
    "WB.sheetnames"
   ]
  },
  {
   "cell_type": "code",
   "execution_count": 10,
   "metadata": {
    "scrolled": true
   },
   "outputs": [
    {
     "data": {
      "text/plain": [
       "<openpyxl.worksheet.read_only.ReadOnlyWorksheet at 0x118e70f60>"
      ]
     },
     "execution_count": 10,
     "metadata": {},
     "output_type": "execute_result"
    }
   ],
   "source": [
    "WB['Лист1']"
   ]
  },
  {
   "cell_type": "code",
   "execution_count": 11,
   "metadata": {},
   "outputs": [],
   "source": [
    "sh = WB['Лист1']"
   ]
  },
  {
   "cell_type": "code",
   "execution_count": 12,
   "metadata": {},
   "outputs": [
    {
     "data": {
      "text/plain": [
       "1"
      ]
     },
     "execution_count": 12,
     "metadata": {},
     "output_type": "execute_result"
    }
   ],
   "source": [
    "sh['A1'].value"
   ]
  },
  {
   "cell_type": "code",
   "execution_count": 13,
   "metadata": {},
   "outputs": [
    {
     "data": {
      "text/plain": [
       "((<ReadOnlyCell 'Лист1'.A1>, <ReadOnlyCell 'Лист1'.B1>),\n",
       " (<ReadOnlyCell 'Лист1'.A2>, <ReadOnlyCell 'Лист1'.B2>),\n",
       " (<ReadOnlyCell 'Лист1'.A3>, <ReadOnlyCell 'Лист1'.B3>),\n",
       " (<ReadOnlyCell 'Лист1'.A4>, <ReadOnlyCell 'Лист1'.B4>),\n",
       " (<ReadOnlyCell 'Лист1'.A5>, <ReadOnlyCell 'Лист1'.B5>))"
      ]
     },
     "execution_count": 13,
     "metadata": {},
     "output_type": "execute_result"
    }
   ],
   "source": [
    "sh['A1:B5']"
   ]
  },
  {
   "cell_type": "code",
   "execution_count": 14,
   "metadata": {},
   "outputs": [
    {
     "data": {
      "text/plain": [
       "10"
      ]
     },
     "execution_count": 14,
     "metadata": {},
     "output_type": "execute_result"
    }
   ],
   "source": [
    "sh.max_row # показывает количество строк"
   ]
  },
  {
   "cell_type": "code",
   "execution_count": 15,
   "metadata": {},
   "outputs": [
    {
     "data": {
      "text/plain": [
       "2"
      ]
     },
     "execution_count": 15,
     "metadata": {},
     "output_type": "execute_result"
    }
   ],
   "source": [
    "sh.max_column # показывает количтво столбцов"
   ]
  },
  {
   "cell_type": "code",
   "execution_count": 16,
   "metadata": {},
   "outputs": [
    {
     "data": {
      "text/plain": [
       "<generator object ReadOnlyWorksheet._cells_by_row at 0x118e935e8>"
      ]
     },
     "execution_count": 16,
     "metadata": {},
     "output_type": "execute_result"
    }
   ],
   "source": [
    "sh.rows"
   ]
  },
  {
   "cell_type": "code",
   "execution_count": 17,
   "metadata": {},
   "outputs": [
    {
     "name": "stdout",
     "output_type": "stream",
     "text": [
      "(<ReadOnlyCell 'Лист1'.A1>, <ReadOnlyCell 'Лист1'.B1>)\n",
      "(<ReadOnlyCell 'Лист1'.A2>, <ReadOnlyCell 'Лист1'.B2>)\n",
      "(<ReadOnlyCell 'Лист1'.A3>, <ReadOnlyCell 'Лист1'.B3>)\n",
      "(<ReadOnlyCell 'Лист1'.A4>, <ReadOnlyCell 'Лист1'.B4>)\n",
      "(<ReadOnlyCell 'Лист1'.A5>, <ReadOnlyCell 'Лист1'.B5>)\n",
      "(<ReadOnlyCell 'Лист1'.A6>, <ReadOnlyCell 'Лист1'.B6>)\n",
      "(<ReadOnlyCell 'Лист1'.A7>, <ReadOnlyCell 'Лист1'.B7>)\n",
      "(<ReadOnlyCell 'Лист1'.A8>, <ReadOnlyCell 'Лист1'.B8>)\n",
      "(<ReadOnlyCell 'Лист1'.A9>, <ReadOnlyCell 'Лист1'.B9>)\n",
      "(<ReadOnlyCell 'Лист1'.A10>, <ReadOnlyCell 'Лист1'.B10>)\n"
     ]
    }
   ],
   "source": [
    "for row in sh.rows:\n",
    "    print(row)"
   ]
  },
  {
   "cell_type": "code",
   "execution_count": 18,
   "metadata": {},
   "outputs": [
    {
     "data": {
      "text/plain": [
       "1"
      ]
     },
     "execution_count": 18,
     "metadata": {},
     "output_type": "execute_result"
    }
   ],
   "source": [
    "sh.min_row"
   ]
  },
  {
   "cell_type": "code",
   "execution_count": 19,
   "metadata": {},
   "outputs": [
    {
     "data": {
      "text/plain": [
       "10"
      ]
     },
     "execution_count": 19,
     "metadata": {},
     "output_type": "execute_result"
    }
   ],
   "source": [
    "sh.max_row"
   ]
  },
  {
   "cell_type": "code",
   "execution_count": 20,
   "metadata": {},
   "outputs": [
    {
     "data": {
      "text/plain": [
       "<ReadOnlyCell 'Лист1'.A1>"
      ]
     },
     "execution_count": 20,
     "metadata": {},
     "output_type": "execute_result"
    }
   ],
   "source": [
    "sh['A1']"
   ]
  },
  {
   "cell_type": "code",
   "execution_count": 21,
   "metadata": {},
   "outputs": [
    {
     "data": {
      "text/plain": [
       "int"
      ]
     },
     "execution_count": 21,
     "metadata": {},
     "output_type": "execute_result"
    }
   ],
   "source": [
    "type(sh['A1'].value)"
   ]
  },
  {
   "cell_type": "code",
   "execution_count": 22,
   "metadata": {},
   "outputs": [
    {
     "data": {
      "text/plain": [
       "float"
      ]
     },
     "execution_count": 22,
     "metadata": {},
     "output_type": "execute_result"
    }
   ],
   "source": [
    "type(sh['B2'].value)"
   ]
  },
  {
   "cell_type": "code",
   "execution_count": 23,
   "metadata": {},
   "outputs": [
    {
     "data": {
      "text/plain": [
       "10"
      ]
     },
     "execution_count": 23,
     "metadata": {},
     "output_type": "execute_result"
    }
   ],
   "source": [
    "sh.max_row"
   ]
  },
  {
   "cell_type": "code",
   "execution_count": 29,
   "metadata": {},
   "outputs": [
    {
     "ename": "NameError",
     "evalue": "name 'sheet_to_array' is not defined",
     "output_type": "error",
     "traceback": [
      "\u001b[0;31m---------------------------------------------------------------------------\u001b[0m",
      "\u001b[0;31mNameError\u001b[0m                                 Traceback (most recent call last)",
      "\u001b[0;32m<ipython-input-29-9126310e9eda>\u001b[0m in \u001b[0;36m<module>\u001b[0;34m\u001b[0m\n\u001b[0;32m----> 1\u001b[0;31m \u001b[0mar\u001b[0m \u001b[0;34m=\u001b[0m \u001b[0msheet_to_array\u001b[0m\u001b[0;34m(\u001b[0m\u001b[0mjoin\u001b[0m \u001b[0;34m(\u001b[0m\u001b[0;34m'..'\u001b[0m\u001b[0;34m,\u001b[0m \u001b[0;34m'zaha'\u001b[0m\u001b[0;34m,\u001b[0m \u001b[0;34m'Documents'\u001b[0m\u001b[0;34m,\u001b[0m \u001b[0;34m'work'\u001b[0m\u001b[0;34m,\u001b[0m \u001b[0;34m'Home1'\u001b[0m\u001b[0;34m,\u001b[0m \u001b[0;34m'data'\u001b[0m\u001b[0;34m,\u001b[0m \u001b[0;34m'line.xlsx'\u001b[0m\u001b[0;34m)\u001b[0m \u001b[0;34m)\u001b[0m\u001b[0;34m\u001b[0m\u001b[0m\n\u001b[0m",
      "\u001b[0;31mNameError\u001b[0m: name 'sheet_to_array' is not defined"
     ]
    }
   ],
   "source": [
    "ar = sheet_to_array(join ('..', 'zaha', 'Documents', 'work', 'Home1', 'data', 'line.xlsx') )\n"
   ]
  },
  {
   "cell_type": "code",
   "execution_count": 1,
   "metadata": {},
   "outputs": [],
   "source": [
    "import openpyxl\n",
    "import numpy as np\n",
    " \n",
    "__all__ = ( 'sheet_to_array', )\n",
    "\n",
    "def sheet_to_array( filepath, sheetname=None ):\n",
    "    wb = openpyxl.load_workbook(filepath, read_only=True)\n",
    "    if sheetname is None:\n",
    "        sheetname = wb.sheetnames[0]\n",
    "    sh = wb[sheetname]\n",
    "\n",
    "    r = sh.max_row - sh.min_row + 1\n",
    "    c = sh.max_column - sh.min_column + 1\n",
    "    Result = np.zeros( (r,c), dtype=np.float64 )\n",
    "\n",
    "    for r, row in enumerate(sh.rows):\n",
    "        for c, cell in enumerate(row):\n",
    "            Result[r,c] = cell.value\n",
    "\n",
    "    return Result"
   ]
  },
  {
   "cell_type": "code",
   "execution_count": 1,
   "metadata": {},
   "outputs": [
    {
     "ename": "ModuleNotFoundError",
     "evalue": "No module named 'linear'",
     "output_type": "error",
     "traceback": [
      "\u001b[0;31m---------------------------------------------------------------------------\u001b[0m",
      "\u001b[0;31mModuleNotFoundError\u001b[0m                       Traceback (most recent call last)",
      "\u001b[0;32m<ipython-input-1-a6203274c495>\u001b[0m in \u001b[0;36m<module>\u001b[0;34m\u001b[0m\n\u001b[1;32m      1\u001b[0m \u001b[0;32mfrom\u001b[0m \u001b[0mos\u001b[0m\u001b[0;34m.\u001b[0m\u001b[0mpath\u001b[0m \u001b[0;32mimport\u001b[0m \u001b[0mjoin\u001b[0m\u001b[0;34m\u001b[0m\u001b[0m\n\u001b[1;32m      2\u001b[0m \u001b[0;34m\u001b[0m\u001b[0m\n\u001b[0;32m----> 3\u001b[0;31m \u001b[0;32mfrom\u001b[0m \u001b[0mlinear\u001b[0m \u001b[0;32mimport\u001b[0m \u001b[0;34m*\u001b[0m\u001b[0;34m\u001b[0m\u001b[0m\n\u001b[0m\u001b[1;32m      4\u001b[0m \u001b[0;34m\u001b[0m\u001b[0m\n\u001b[1;32m      5\u001b[0m \u001b[0;31m# liss( 1, 9, '.' )\u001b[0m\u001b[0;34m\u001b[0m\u001b[0;34m\u001b[0m\u001b[0m\n",
      "\u001b[0;31mModuleNotFoundError\u001b[0m: No module named 'linear'"
     ]
    }
   ],
   "source": [
    "from os.path import join\n",
    "\n",
    "from linear import *\n",
    "\n",
    "# liss( 1, 9, '.' )\n",
    "\n",
    "ar = sheet_to_array( join('zaha','Documents', 'work', 'Home1', 'data', 'line.xlsx' ) )\n",
    "print( ar )\n"
   ]
  },
  {
   "cell_type": "code",
   "execution_count": null,
   "metadata": {},
   "outputs": [],
   "source": []
  },
  {
   "cell_type": "code",
   "execution_count": null,
   "metadata": {},
   "outputs": [],
   "source": []
  }
 ],
 "metadata": {
  "kernelspec": {
   "display_name": "Python 3",
   "language": "python",
   "name": "python3"
  },
  "language_info": {
   "codemirror_mode": {
    "name": "ipython",
    "version": 3
   },
   "file_extension": ".py",
   "mimetype": "text/x-python",
   "name": "python",
   "nbconvert_exporter": "python",
   "pygments_lexer": "ipython3",
   "version": "3.7.0"
  }
 },
 "nbformat": 4,
 "nbformat_minor": 2
}
