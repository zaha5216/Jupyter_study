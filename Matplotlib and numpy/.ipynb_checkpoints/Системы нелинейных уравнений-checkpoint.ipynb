{
 "cells": [
  {
   "cell_type": "code",
   "execution_count": 1,
   "metadata": {},
   "outputs": [
    {
     "name": "stdout",
     "output_type": "stream",
     "text": [
      "[-1.30644001] True\n"
     ]
    }
   ],
   "source": [
    "# Поиск решения ур-е (2) с начальным приближением x0=-1.0\n",
    "import numpy as  np\n",
    "from scipy.optimize import root\n",
    "\n",
    "def func(x):\n",
    "    return x + 5 * np.cos(x)\n",
    "\n",
    "sol = root(func, -1)\n",
    "print(sol.x,sol.success)\n",
    "    "
   ]
  },
  {
   "cell_type": "code",
   "execution_count": 2,
   "metadata": {},
   "outputs": [
    {
     "data": {
      "text/plain": [
       "-9.499725228678813e-09"
      ]
     },
     "execution_count": 2,
     "metadata": {},
     "output_type": "execute_result"
    }
   ],
   "source": [
    "func(-1.30644001)"
   ]
  },
  {
   "cell_type": "code",
   "execution_count": 3,
   "metadata": {},
   "outputs": [
    {
     "name": "stdout",
     "output_type": "stream",
     "text": [
      "[6.50409711 0.90841421] True\n"
     ]
    }
   ],
   "source": [
    "# Системы нелинейных уровнений\n",
    "def func2(x):\n",
    "    f = [x[0]*np.cos(x[1])-4,\n",
    "         x[0]*x[1]-x[1]-5]\n",
    "    return f\n",
    "\n",
    "sol = root(func2, [1, 1])\n",
    "print(sol.x, sol.success)"
   ]
  },
  {
   "cell_type": "code",
   "execution_count": 4,
   "metadata": {},
   "outputs": [
    {
     "data": {
      "text/plain": [
       "[3.732125719579926e-12, 1.617017630906048e-11]"
      ]
     },
     "execution_count": 4,
     "metadata": {},
     "output_type": "execute_result"
    }
   ],
   "source": [
    "func2(sol.x)"
   ]
  },
  {
   "cell_type": "code",
   "execution_count": null,
   "metadata": {},
   "outputs": [],
   "source": []
  }
 ],
 "metadata": {
  "kernelspec": {
   "display_name": "Python 3",
   "language": "python",
   "name": "python3"
  },
  "language_info": {
   "codemirror_mode": {
    "name": "ipython",
    "version": 3
   },
   "file_extension": ".py",
   "mimetype": "text/x-python",
   "name": "python",
   "nbconvert_exporter": "python",
   "pygments_lexer": "ipython3",
   "version": "3.7.0"
  }
 },
 "nbformat": 4,
 "nbformat_minor": 2
}
