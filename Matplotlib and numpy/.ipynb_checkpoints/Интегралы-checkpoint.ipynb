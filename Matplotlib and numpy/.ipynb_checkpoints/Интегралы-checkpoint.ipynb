{
 "cells": [
  {
   "cell_type": "code",
   "execution_count": 4,
   "metadata": {},
   "outputs": [
    {
     "name": "stdout",
     "output_type": "stream",
     "text": [
      "(0.00033300011902557576, 3.6970439934511184e-18)\n"
     ]
    }
   ],
   "source": [
    "import numpy as np\n",
    "import scipy.integrate as integrate\n",
    "\n",
    "result = integrate.quad(lambda x: x*np.sin(x), 0.0, 0.1)\n",
    "\n",
    "print(result)"
   ]
  },
  {
   "cell_type": "code",
   "execution_count": 10,
   "metadata": {},
   "outputs": [
    {
     "name": "stdout",
     "output_type": "stream",
     "text": [
      "(1.9976199733646202e-06, 2.2178036888804933e-20)\n"
     ]
    }
   ],
   "source": [
    "def integrand (x, n):\n",
    "    return (x**n)*np.sin(x)\n",
    "\n",
    "result = integrate.quad(integrand, 0.0, 0.1, args = (3,))\n",
    "\n",
    "print(result)"
   ]
  },
  {
   "cell_type": "code",
   "execution_count": 11,
   "metadata": {},
   "outputs": [
    {
     "name": "stdout",
     "output_type": "stream",
     "text": [
      "(0.010416666666666668, 4.101620128472366e-16)\n"
     ]
    }
   ],
   "source": [
    "# Двойной интеграл\n",
    "def intergrand(x, y):\n",
    "    return x*y\n",
    "\n",
    "result = integrate.dblquad(intergrand, 0.0, 0.5,\n",
    "                        lambda z: 0,\n",
    "                        lambda z: 1-2*z)\n",
    "\n",
    "print(result)"
   ]
  },
  {
   "cell_type": "code",
   "execution_count": 15,
   "metadata": {},
   "outputs": [
    {
     "name": "stdout",
     "output_type": "stream",
     "text": [
      "18.541666666666664\n"
     ]
    }
   ],
   "source": [
    "# Интегрирование табличной функции\n",
    "import numpy as np \n",
    "from scipy.integrate import simps\n",
    "from scipy.interpolate import interp1d\n",
    "import matplotlib.pyplot as plt\n",
    "\n",
    "x = np.array([1.0, 2.0, 3.0, 4.0, 5.0, 6.0]);\n",
    "y = np.array([2.0, 3.0, 3.5, 4.0, 4.5, 5.0]);\n",
    "\n",
    "l1 = simps(y, x)\n",
    "print(l1)"
   ]
  },
  {
   "cell_type": "code",
   "execution_count": null,
   "metadata": {},
   "outputs": [],
   "source": []
  }
 ],
 "metadata": {
  "kernelspec": {
   "display_name": "Python 3",
   "language": "python",
   "name": "python3"
  },
  "language_info": {
   "codemirror_mode": {
    "name": "ipython",
    "version": 3
   },
   "file_extension": ".py",
   "mimetype": "text/x-python",
   "name": "python",
   "nbconvert_exporter": "python",
   "pygments_lexer": "ipython3",
   "version": "3.7.0"
  }
 },
 "nbformat": 4,
 "nbformat_minor": 2
}
