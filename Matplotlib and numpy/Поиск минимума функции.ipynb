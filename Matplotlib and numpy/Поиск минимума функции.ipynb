{
 "cells": [
  {
   "cell_type": "code",
   "execution_count": 6,
   "metadata": {},
   "outputs": [
    {
     "name": "stdout",
     "output_type": "stream",
     "text": [
      "[7.00534301] 8.271791334231555 True\n"
     ]
    }
   ],
   "source": [
    "import numpy as np\n",
    "from scipy.optimize import minimize\n",
    "\n",
    "def time_AB(x, a, b, h, v, n):\n",
    "    La = np.sqrt(x**2+a**2);\n",
    "    Lb = np.sqrt((h-x)**2+b**2);\n",
    "    res = La/v + n*Lb/v\n",
    "    return res\n",
    "\n",
    "res = minimize(time_AB,2.5,\n",
    "               args = (10.0, 10.0, 10.0, 4.0, 2.0))\n",
    "\n",
    "print(res.x, res.fun, res.success)"
   ]
  },
  {
   "cell_type": "code",
   "execution_count": null,
   "metadata": {},
   "outputs": [],
   "source": []
  }
 ],
 "metadata": {
  "kernelspec": {
   "display_name": "Python 3",
   "language": "python",
   "name": "python3"
  },
  "language_info": {
   "codemirror_mode": {
    "name": "ipython",
    "version": 3
   },
   "file_extension": ".py",
   "mimetype": "text/x-python",
   "name": "python",
   "nbconvert_exporter": "python",
   "pygments_lexer": "ipython3",
   "version": "3.7.0"
  }
 },
 "nbformat": 4,
 "nbformat_minor": 2
}
