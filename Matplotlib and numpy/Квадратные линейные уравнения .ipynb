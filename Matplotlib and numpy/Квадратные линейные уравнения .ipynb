{
 "cells": [
  {
   "cell_type": "code",
   "execution_count": 2,
   "metadata": {},
   "outputs": [
    {
     "name": "stdout",
     "output_type": "stream",
     "text": [
      "\n",
      "Программа решает квадратные линейные уровнения вида \n",
      "a*x^2 + b*x +c = 0 \n",
      "при ввёденных пользователем аргументов а, b и с.\n",
      "\n",
      "Ввидите a: 1\n",
      "Ввидите b: 3\n",
      "Ввидите c: 4\n",
      "1*x^2 + 3*x + 4 = 0\n",
      "D = -7\n",
      "Действительных корней не существует.\n",
      "Конец.\n"
     ]
    }
   ],
   "source": [
    "print('''\n",
    "Программа решает квадратные линейные уровнения вида \n",
    "a*x^2 + b*x +c = 0 \n",
    "при ввёденных пользователем аргументов а, b и с.\n",
    "''')\n",
    "\n",
    "import math\n",
    "\n",
    "#Disciminant - вычесление дискриминанта\n",
    "def Disciminant(a, b, c):\n",
    "    return b**2 - 4*a*c\n",
    "\n",
    "#Ввод данных\n",
    "a = int(input('Ввидите a: '))\n",
    "b = int(input('Ввидите b: '))\n",
    "c = int(input('Ввидите c: '))\n",
    "print('%s*x^2 + %s*x + %s = 0' % (a, b, c))\n",
    "\n",
    "D = Disciminant(a, b, c)\n",
    "print('D =', D)\n",
    "\n",
    "if D < 0:\n",
    "    print('Действительных корней не существует.')\n",
    "elif D == 0:\n",
    "    print('X =', (-b/(2*a)))\n",
    "elif D > 0:\n",
    "    print('X1 =', (-b+math.sqrt(D)/(2*a)))\n",
    "    print('X2 =', (-b-math.sqrt(D)/(2*a)))\n",
    "\n",
    "print('Конец.')"
   ]
  },
  {
   "cell_type": "markdown",
   "metadata": {},
   "source": []
  },
  {
   "cell_type": "code",
   "execution_count": null,
   "metadata": {},
   "outputs": [],
   "source": []
  }
 ],
 "metadata": {
  "kernelspec": {
   "display_name": "Python 3",
   "language": "python",
   "name": "python3"
  },
  "language_info": {
   "codemirror_mode": {
    "name": "ipython",
    "version": 3
   },
   "file_extension": ".py",
   "mimetype": "text/x-python",
   "name": "python",
   "nbconvert_exporter": "python",
   "pygments_lexer": "ipython3",
   "version": "3.7.0"
  }
 },
 "nbformat": 4,
 "nbformat_minor": 2
}
