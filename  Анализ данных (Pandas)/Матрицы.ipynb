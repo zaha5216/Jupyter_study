{
 "cells": [
  {
   "cell_type": "code",
   "execution_count": 1,
   "metadata": {},
   "outputs": [],
   "source": [
    "import numpy as np"
   ]
  },
  {
   "cell_type": "code",
   "execution_count": 4,
   "metadata": {},
   "outputs": [
    {
     "name": "stdout",
     "output_type": "stream",
     "text": [
      "Матрица:\n",
      " [[1 2 3]\n",
      " [2 5 6]\n",
      " [6 7 4]]\n"
     ]
    }
   ],
   "source": [
    "a = np.array([[1, 2, 3],[2, 5, 6], [6, 7, 4]])\n",
    "print('Матрица:\\n', a)"
   ]
  },
  {
   "cell_type": "code",
   "execution_count": 5,
   "metadata": {},
   "outputs": [
    {
     "name": "stdout",
     "output_type": "stream",
     "text": [
      "Единичная матрица:\n",
      " [[1. 0. 0. 0. 0.]\n",
      " [0. 1. 0. 0. 0.]\n",
      " [0. 0. 1. 0. 0.]\n",
      " [0. 0. 0. 1. 0.]\n",
      " [0. 0. 0. 0. 1.]]\n"
     ]
    }
   ],
   "source": [
    "b = np.eye(5)\n",
    "print('Единичная матрица:\\n', b)"
   ]
  },
  {
   "cell_type": "code",
   "execution_count": 7,
   "metadata": {},
   "outputs": [
    {
     "name": "stdout",
     "output_type": "stream",
     "text": [
      "Матрица состоящая из одних едениц:\n",
      " [[1. 1. 1. 1. 1.]\n",
      " [1. 1. 1. 1. 1.]\n",
      " [1. 1. 1. 1. 1.]\n",
      " [1. 1. 1. 1. 1.]\n",
      " [1. 1. 1. 1. 1.]\n",
      " [1. 1. 1. 1. 1.]\n",
      " [1. 1. 1. 1. 1.]]\n"
     ]
    }
   ],
   "source": [
    "c = np.ones((7, 5))\n",
    "print('Матрица состоящая из одних едениц:\\n', c)"
   ]
  },
  {
   "cell_type": "code",
   "execution_count": 8,
   "metadata": {},
   "outputs": [
    {
     "name": "stdout",
     "output_type": "stream",
     "text": [
      "Вектор столбец:\n",
      " [ 0  2  4  6  8 10 12 14 16 18 20 22]\n"
     ]
    }
   ],
   "source": [
    "v = np.arange(0, 24, 2)\n",
    "print('Вектор столбец:\\n', v)"
   ]
  },
  {
   "cell_type": "code",
   "execution_count": 9,
   "metadata": {},
   "outputs": [
    {
     "name": "stdout",
     "output_type": "stream",
     "text": [
      "Матрица:\n",
      " [[ 0  2  4  6]\n",
      " [ 8 10 12 14]\n",
      " [16 18 20 22]]\n"
     ]
    }
   ],
   "source": [
    "d = v.reshape((3, 4))\n",
    "print('Матрица:\\n', d)"
   ]
  },
  {
   "cell_type": "code",
   "execution_count": 13,
   "metadata": {},
   "outputs": [
    {
     "name": "stdout",
     "output_type": "stream",
     "text": [
      "Матрица:\n",
      " [[ 0  2  4  6]\n",
      " [ 8 10 12 14]\n",
      " [16 18 20 22]]\n"
     ]
    }
   ],
   "source": [
    "d = v.reshape((3, 4))\n",
    "print('Матрица:\\n', d)"
   ]
  },
  {
   "cell_type": "code",
   "execution_count": 14,
   "metadata": {},
   "outputs": [
    {
     "name": "stdout",
     "output_type": "stream",
     "text": [
      "второй элемент третьей строки:\n",
      " 18\n"
     ]
    }
   ],
   "source": [
    "print('Второй элемент третьей строки:\\n', d[2, 1])"
   ]
  },
  {
   "cell_type": "code",
   "execution_count": 17,
   "metadata": {},
   "outputs": [
    {
     "name": "stdout",
     "output_type": "stream",
     "text": [
      "Вторая строка матрицы:\n",
      " [ 8 10 12 14]\n",
      "Четвёртый столбец матрицы:\n",
      " [ 6 14 22]\n"
     ]
    }
   ],
   "source": [
    "print('Вторая строка матрицы:\\n', d[1, :])\n",
    "print('Четвёртый столбец матрицы:\\n', d[:, 3])"
   ]
  },
  {
   "cell_type": "code",
   "execution_count": 18,
   "metadata": {},
   "outputs": [
    {
     "name": "stdout",
     "output_type": "stream",
     "text": [
      "Элементы матрицы с кординатами(1, 2) и (0, 3):\n",
      " [12  6]\n"
     ]
    }
   ],
   "source": [
    "print('Элементы матрицы с кординатами(1, 2) и (0, 3):\\n', d[[1, 0], [2, 3]])"
   ]
  },
  {
   "cell_type": "code",
   "execution_count": 19,
   "metadata": {},
   "outputs": [],
   "source": [
    "# Векторы , вектор-строки и вектор-стобцы\n",
    "a = np.array([1, 2, 3])\n",
    "b = np.array([[1], [2], [3]])"
   ]
  },
  {
   "cell_type": "code",
   "execution_count": 21,
   "metadata": {},
   "outputs": [
    {
     "name": "stdout",
     "output_type": "stream",
     "text": [
      "Вектор:\n",
      " [1 2 3]\n",
      "Его размерность так же не изменилось:\n",
      " (3,)\n",
      "Транспорнированный двумерный массив:\n",
      " [[1]\n",
      " [2]\n",
      " [3]]\n",
      "Его размерность так же не изменилось:\n",
      " (3, 1)\n"
     ]
    }
   ],
   "source": [
    "print('Вектор:\\n', a)\n",
    "print('Его размерность так же не изменилось:\\n', a.shape)\n",
    "print('Транспорнированный двумерный массив:\\n', b)\n",
    "print('Его размерность так же не изменилось:\\n', b.shape)"
   ]
  },
  {
   "cell_type": "code",
   "execution_count": 22,
   "metadata": {},
   "outputs": [],
   "source": [
    "a = a.T"
   ]
  },
  {
   "cell_type": "code",
   "execution_count": 23,
   "metadata": {},
   "outputs": [],
   "source": [
    "b = b.T"
   ]
  },
  {
   "cell_type": "code",
   "execution_count": 24,
   "metadata": {},
   "outputs": [
    {
     "name": "stdout",
     "output_type": "stream",
     "text": [
      "Вектор:\n",
      " [1 2 3]\n",
      "Его размерность  изменилось:\n",
      " (3,)\n",
      "Транспорнированный двумерный массив:\n",
      " [[1 2 3]]\n",
      "Его размерность так же  изменилось:\n",
      " (1, 3)\n"
     ]
    }
   ],
   "source": [
    "print('Вектор:\\n', a)\n",
    "print('Его размерность  изменилось:\\n', a.shape)\n",
    "print('Транспорнированный двумерный массив:\\n', b)\n",
    "print('Его размерность так же  изменилось:\\n', b.shape)"
   ]
  },
  {
   "cell_type": "code",
   "execution_count": 27,
   "metadata": {},
   "outputs": [],
   "source": [
    "# 4 Умножение матриц и столбцов\n",
    "a = np.array([[1, 0],[0, 1]])\n",
    "b = np.array([[4, 1],[2, 2]])\n",
    "r1 = np.dot(a, b)\n",
    "r2 = a.dot(b)"
   ]
  },
  {
   "cell_type": "code",
   "execution_count": 28,
   "metadata": {},
   "outputs": [
    {
     "name": "stdout",
     "output_type": "stream",
     "text": [
      "Матрица:\n",
      " [[1 0]\n",
      " [0 1]]\n",
      "Матрица:\n",
      " [[4 1]\n",
      " [2 2]]\n",
      "Результат умножения функцией:\n",
      " [[4 1]\n",
      " [2 2]]\n",
      "Результат умножения методом:\n",
      " [[4 1]\n",
      " [2 2]]\n"
     ]
    }
   ],
   "source": [
    "print('Матрица:\\n',a)\n",
    "print('Матрица:\\n',b)\n",
    "print('Результат умножения функцией:\\n', r1)\n",
    "print('Результат умножения методом:\\n', r2)"
   ]
  },
  {
   "cell_type": "code",
   "execution_count": 29,
   "metadata": {},
   "outputs": [],
   "source": [
    "c = np.array([1, 2])\n",
    "r3 = b.dot(c)"
   ]
  },
  {
   "cell_type": "code",
   "execution_count": 30,
   "metadata": {},
   "outputs": [
    {
     "name": "stdout",
     "output_type": "stream",
     "text": [
      "Матрица:\n",
      " [[4 1]\n",
      " [2 2]]\n",
      "Матрица:\n",
      " [1 2]\n",
      "Результат умножения функцией:\n",
      " [6 6]\n"
     ]
    }
   ],
   "source": [
    "print('Матрица:\\n',b)\n",
    "print('Матрица:\\n',c)\n",
    "print('Результат умножения функцией:\\n', r3)"
   ]
  },
  {
   "cell_type": "code",
   "execution_count": 31,
   "metadata": {},
   "outputs": [],
   "source": [
    "r = a * b"
   ]
  },
  {
   "cell_type": "code",
   "execution_count": 32,
   "metadata": {},
   "outputs": [
    {
     "name": "stdout",
     "output_type": "stream",
     "text": [
      "Матрица:\n",
      " [[1 0]\n",
      " [0 1]]\n",
      "Матрица:\n",
      " [[4 1]\n",
      " [2 2]]\n",
      "Результат умножения функцией:\n",
      " [[4 0]\n",
      " [0 2]]\n"
     ]
    }
   ],
   "source": [
    "print('Матрица:\\n',a)\n",
    "print('Матрица:\\n',b)\n",
    "print('Результат умножения функцией:\\n', r)"
   ]
  },
  {
   "cell_type": "code",
   "execution_count": 33,
   "metadata": {},
   "outputs": [],
   "source": [
    "# Транспонирование матриц \n",
    "a = np.array([[1, 2],[3, 4]])\n",
    "b = np.transpose(a)\n",
    "c = a.T"
   ]
  },
  {
   "cell_type": "code",
   "execution_count": 34,
   "metadata": {},
   "outputs": [
    {
     "name": "stdout",
     "output_type": "stream",
     "text": [
      "Матрица:\n",
      " [[1 2]\n",
      " [3 4]]\n",
      "Транспонирование функцией:\n",
      " [[1 3]\n",
      " [2 4]]\n",
      "Транспонирование методом:\n",
      " [[1 3]\n",
      " [2 4]]\n"
     ]
    }
   ],
   "source": [
    "print('Матрица:\\n',a)\n",
    "print('Транспонирование функцией:\\n',b)\n",
    "print('Транспонирование методом:\\n', c)"
   ]
  },
  {
   "cell_type": "code",
   "execution_count": 46,
   "metadata": {},
   "outputs": [],
   "source": [
    "# Определитель матрицы \n",
    "a = np.array([[1, 2, 1], [1, 1, 4], [2, 3, 6]], dtype=np.float32)\n",
    "det = np.linalg.det(a)"
   ]
  },
  {
   "cell_type": "code",
   "execution_count": 47,
   "metadata": {},
   "outputs": [
    {
     "name": "stdout",
     "output_type": "stream",
     "text": [
      "Матрица:\n",
      " [[1. 2. 1.]\n",
      " [1. 1. 4.]\n",
      " [2. 3. 6.]]\n",
      "Определитель:\n",
      " -1.0\n"
     ]
    }
   ],
   "source": [
    "print('Матрица:\\n',a)\n",
    "print('Определитель:\\n',det)"
   ]
  },
  {
   "cell_type": "code",
   "execution_count": 48,
   "metadata": {},
   "outputs": [],
   "source": [
    "# Ранг матрицы\n",
    "a = np.array([[1, 2, 3], [1, 1, 1], [2, 2, 2]])\n",
    "r = np.linalg.matrix_rank(a)"
   ]
  },
  {
   "cell_type": "code",
   "execution_count": 49,
   "metadata": {},
   "outputs": [
    {
     "name": "stdout",
     "output_type": "stream",
     "text": [
      "Матрица:\n",
      " [[1 2 3]\n",
      " [1 1 1]\n",
      " [2 2 2]]\n",
      "Ранг матрицы:\n",
      " 2\n"
     ]
    }
   ],
   "source": [
    "print('Матрица:\\n',a)\n",
    "print('Ранг матрицы:\\n',r)"
   ]
  },
  {
   "cell_type": "code",
   "execution_count": 50,
   "metadata": {},
   "outputs": [],
   "source": [
    "a = np.array([1, 2, 3])\n",
    "b = np.array([1, 1, 1])\n",
    "c = np.array([2, 3, 5])\n",
    "m = np.array([a, b, c])"
   ]
  },
  {
   "cell_type": "code",
   "execution_count": 51,
   "metadata": {},
   "outputs": [
    {
     "name": "stdout",
     "output_type": "stream",
     "text": [
      "True\n"
     ]
    }
   ],
   "source": [
    "print(np.linalg.matrix_rank(m) == m.shape[0])"
   ]
  },
  {
   "cell_type": "code",
   "execution_count": 52,
   "metadata": {},
   "outputs": [],
   "source": [
    "# Обращение матриц\n",
    "a = np.array([[1, 2, 1], [1, 1, 4], [2, 3, 6]], dtype=np.float32)\n",
    "b = np.linalg.inv(a)"
   ]
  },
  {
   "cell_type": "code",
   "execution_count": 54,
   "metadata": {},
   "outputs": [
    {
     "name": "stdout",
     "output_type": "stream",
     "text": [
      "Матрица:\n",
      " [[1. 2. 1.]\n",
      " [1. 1. 4.]\n",
      " [2. 3. 6.]]\n",
      "Обратная матрица:\n",
      " [[ 6.  9. -7.]\n",
      " [-2. -4.  3.]\n",
      " [-1. -1.  1.]]\n",
      "Прозведение А на обратную матрицу дожна быть едичной:\n",
      " [[1. 0. 0.]\n",
      " [0. 1. 0.]\n",
      " [0. 0. 1.]]\n"
     ]
    }
   ],
   "source": [
    "print('Матрица:\\n',a)\n",
    "print('Обратная матрица:\\n',b)\n",
    "print('Прозведение А на обратную матрицу дожна быть едичной:\\n',a.dot(b))"
   ]
  },
  {
   "cell_type": "code",
   "execution_count": 55,
   "metadata": {},
   "outputs": [],
   "source": [
    "# Собственные числа и собственные вектора \n",
    "a = np.array([[-1, -6], [2, 6]])\n",
    "w, v = np.linalg.eig(a)"
   ]
  },
  {
   "cell_type": "code",
   "execution_count": 56,
   "metadata": {},
   "outputs": [
    {
     "name": "stdout",
     "output_type": "stream",
     "text": [
      "Матрица:\n",
      " [[-1 -6]\n",
      " [ 2  6]]\n",
      "Собственные числа:\n",
      " [2. 3.]\n",
      "Собственные векторы:\n",
      " [[-0.89442719  0.83205029]\n",
      " [ 0.4472136  -0.5547002 ]]\n"
     ]
    }
   ],
   "source": [
    "print('Матрица:\\n',a)\n",
    "print('Собственные числа:\\n',w)\n",
    "print('Собственные векторы:\\n', v)"
   ]
  },
  {
   "cell_type": "code",
   "execution_count": 58,
   "metadata": {},
   "outputs": [],
   "source": [
    "# Комплексные числа в питоне\n",
    "a = 3 + 2j\n",
    "b = 1j"
   ]
  },
  {
   "cell_type": "code",
   "execution_count": 59,
   "metadata": {},
   "outputs": [
    {
     "name": "stdout",
     "output_type": "stream",
     "text": [
      "Комплексное число с:\n",
      " (3+2j)\n",
      "Комплексное число с:\n",
      " 1j\n"
     ]
    }
   ],
   "source": [
    "print('Комплексное число с:\\n', a)\n",
    "print('Комплексное число с:\\n', b)"
   ]
  },
  {
   "cell_type": "code",
   "execution_count": 62,
   "metadata": {},
   "outputs": [],
   "source": [
    "c = a * a\n",
    "d = a / (4 - 5j)"
   ]
  },
  {
   "cell_type": "code",
   "execution_count": 64,
   "metadata": {},
   "outputs": [
    {
     "name": "stdout",
     "output_type": "stream",
     "text": [
      "Комплексное число с:\n",
      " (5+12j)\n",
      "Комплексное число d:\n",
      " (0.0487804878048781+0.5609756097560976j)\n"
     ]
    }
   ],
   "source": [
    "print('Комплексное число с:\\n', c)\n",
    "print('Комплексное число d:\\n', d)"
   ]
  },
  {
   "cell_type": "code",
   "execution_count": null,
   "metadata": {},
   "outputs": [],
   "source": []
  },
  {
   "cell_type": "code",
   "execution_count": null,
   "metadata": {},
   "outputs": [],
   "source": []
  }
 ],
 "metadata": {
  "kernelspec": {
   "display_name": "Python 3",
   "language": "python",
   "name": "python3"
  },
  "language_info": {
   "codemirror_mode": {
    "name": "ipython",
    "version": 3
   },
   "file_extension": ".py",
   "mimetype": "text/x-python",
   "name": "python",
   "nbconvert_exporter": "python",
   "pygments_lexer": "ipython3",
   "version": "3.7.0"
  }
 },
 "nbformat": 4,
 "nbformat_minor": 2
}
