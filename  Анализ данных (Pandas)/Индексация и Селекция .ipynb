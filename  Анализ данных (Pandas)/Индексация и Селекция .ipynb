{
 "cells": [
  {
   "cell_type": "code",
   "execution_count": 1,
   "metadata": {},
   "outputs": [],
   "source": [
    "import pandas as pd\n",
    "df = pd.read_excel('/Users/zaha/Documents/shop_list.xls', header=0, sep= '\\t')"
   ]
  },
  {
   "cell_type": "code",
   "execution_count": 2,
   "metadata": {},
   "outputs": [
    {
     "data": {
      "text/plain": [
       "Name_shop     object\n",
       "Date_start    object\n",
       "City          object\n",
       "Format        object\n",
       "SKU_Count      int64\n",
       "dtype: object"
      ]
     },
     "execution_count": 2,
     "metadata": {},
     "output_type": "execute_result"
    }
   ],
   "source": [
    "df.dtypes"
   ]
  },
  {
   "cell_type": "code",
   "execution_count": 3,
   "metadata": {},
   "outputs": [
    {
     "data": {
      "text/html": [
       "<div>\n",
       "<style scoped>\n",
       "    .dataframe tbody tr th:only-of-type {\n",
       "        vertical-align: middle;\n",
       "    }\n",
       "\n",
       "    .dataframe tbody tr th {\n",
       "        vertical-align: top;\n",
       "    }\n",
       "\n",
       "    .dataframe thead th {\n",
       "        text-align: right;\n",
       "    }\n",
       "</style>\n",
       "<table border=\"1\" class=\"dataframe\">\n",
       "  <thead>\n",
       "    <tr style=\"text-align: right;\">\n",
       "      <th></th>\n",
       "      <th>Name_shop</th>\n",
       "      <th>Date_start</th>\n",
       "      <th>City</th>\n",
       "      <th>Format</th>\n",
       "      <th>SKU_Count</th>\n",
       "    </tr>\n",
       "  </thead>\n",
       "  <tbody>\n",
       "    <tr>\n",
       "      <th>0</th>\n",
       "      <td>Стремительный</td>\n",
       "      <td>12.03.2000</td>\n",
       "      <td>Москва</td>\n",
       "      <td>NaN</td>\n",
       "      <td>1300</td>\n",
       "    </tr>\n",
       "    <tr>\n",
       "      <th>1</th>\n",
       "      <td>Хрустальный</td>\n",
       "      <td>07.08.1999</td>\n",
       "      <td>Волгоград</td>\n",
       "      <td>Магазин у дома</td>\n",
       "      <td>1000</td>\n",
       "    </tr>\n",
       "    <tr>\n",
       "      <th>2</th>\n",
       "      <td>Турбуленый</td>\n",
       "      <td>13.02.2000</td>\n",
       "      <td>Краснодар</td>\n",
       "      <td>Гипермаркет</td>\n",
       "      <td>3000</td>\n",
       "    </tr>\n",
       "    <tr>\n",
       "      <th>3</th>\n",
       "      <td>Опасный</td>\n",
       "      <td>15.04.2005</td>\n",
       "      <td>Краснодар</td>\n",
       "      <td>NaN</td>\n",
       "      <td>1300</td>\n",
       "    </tr>\n",
       "    <tr>\n",
       "      <th>4</th>\n",
       "      <td>Полдний</td>\n",
       "      <td>19.11.2005</td>\n",
       "      <td>Москва</td>\n",
       "      <td>Магазин у дома</td>\n",
       "      <td>1000</td>\n",
       "    </tr>\n",
       "    <tr>\n",
       "      <th>5</th>\n",
       "      <td>Колоссальный</td>\n",
       "      <td>31.05.2005</td>\n",
       "      <td>Москва</td>\n",
       "      <td>Косметика</td>\n",
       "      <td>1500</td>\n",
       "    </tr>\n",
       "    <tr>\n",
       "      <th>6</th>\n",
       "      <td>Правдивый</td>\n",
       "      <td>28.04.2014</td>\n",
       "      <td>Москва</td>\n",
       "      <td>NaN</td>\n",
       "      <td>1300</td>\n",
       "    </tr>\n",
       "  </tbody>\n",
       "</table>\n",
       "</div>"
      ],
      "text/plain": [
       "       Name_shop  Date_start       City          Format  SKU_Count\n",
       "0  Стремительный  12.03.2000    Москва              NaN       1300\n",
       "1    Хрустальный  07.08.1999  Волгоград  Магазин у дома       1000\n",
       "2     Турбуленый  13.02.2000  Краснодар     Гипермаркет       3000\n",
       "3        Опасный  15.04.2005  Краснодар             NaN       1300\n",
       "4        Полдний  19.11.2005     Москва  Магазин у дома       1000\n",
       "5   Колоссальный  31.05.2005     Москва       Косметика       1500\n",
       "6      Правдивый  28.04.2014     Москва             NaN       1300"
      ]
     },
     "execution_count": 3,
     "metadata": {},
     "output_type": "execute_result"
    }
   ],
   "source": [
    "df"
   ]
  },
  {
   "cell_type": "code",
   "execution_count": 5,
   "metadata": {},
   "outputs": [],
   "source": [
    "df.Date_start = df.Date_start.apply((pd.to_datetime))\n",
    "# Переводим стобец дата старт в формат дата тайм\n"
   ]
  },
  {
   "cell_type": "code",
   "execution_count": 6,
   "metadata": {},
   "outputs": [
    {
     "data": {
      "text/html": [
       "<div>\n",
       "<style scoped>\n",
       "    .dataframe tbody tr th:only-of-type {\n",
       "        vertical-align: middle;\n",
       "    }\n",
       "\n",
       "    .dataframe tbody tr th {\n",
       "        vertical-align: top;\n",
       "    }\n",
       "\n",
       "    .dataframe thead th {\n",
       "        text-align: right;\n",
       "    }\n",
       "</style>\n",
       "<table border=\"1\" class=\"dataframe\">\n",
       "  <thead>\n",
       "    <tr style=\"text-align: right;\">\n",
       "      <th></th>\n",
       "      <th>Name_shop</th>\n",
       "      <th>Date_start</th>\n",
       "      <th>City</th>\n",
       "      <th>Format</th>\n",
       "      <th>SKU_Count</th>\n",
       "    </tr>\n",
       "  </thead>\n",
       "  <tbody>\n",
       "    <tr>\n",
       "      <th>0</th>\n",
       "      <td>Стремительный</td>\n",
       "      <td>2000-12-03</td>\n",
       "      <td>Москва</td>\n",
       "      <td>NaN</td>\n",
       "      <td>1300</td>\n",
       "    </tr>\n",
       "    <tr>\n",
       "      <th>1</th>\n",
       "      <td>Хрустальный</td>\n",
       "      <td>1999-07-08</td>\n",
       "      <td>Волгоград</td>\n",
       "      <td>Магазин у дома</td>\n",
       "      <td>1000</td>\n",
       "    </tr>\n",
       "    <tr>\n",
       "      <th>2</th>\n",
       "      <td>Турбуленый</td>\n",
       "      <td>2000-02-13</td>\n",
       "      <td>Краснодар</td>\n",
       "      <td>Гипермаркет</td>\n",
       "      <td>3000</td>\n",
       "    </tr>\n",
       "    <tr>\n",
       "      <th>3</th>\n",
       "      <td>Опасный</td>\n",
       "      <td>2005-04-15</td>\n",
       "      <td>Краснодар</td>\n",
       "      <td>NaN</td>\n",
       "      <td>1300</td>\n",
       "    </tr>\n",
       "    <tr>\n",
       "      <th>4</th>\n",
       "      <td>Полдний</td>\n",
       "      <td>2005-11-19</td>\n",
       "      <td>Москва</td>\n",
       "      <td>Магазин у дома</td>\n",
       "      <td>1000</td>\n",
       "    </tr>\n",
       "    <tr>\n",
       "      <th>5</th>\n",
       "      <td>Колоссальный</td>\n",
       "      <td>2005-05-31</td>\n",
       "      <td>Москва</td>\n",
       "      <td>Косметика</td>\n",
       "      <td>1500</td>\n",
       "    </tr>\n",
       "    <tr>\n",
       "      <th>6</th>\n",
       "      <td>Правдивый</td>\n",
       "      <td>2014-04-28</td>\n",
       "      <td>Москва</td>\n",
       "      <td>NaN</td>\n",
       "      <td>1300</td>\n",
       "    </tr>\n",
       "  </tbody>\n",
       "</table>\n",
       "</div>"
      ],
      "text/plain": [
       "       Name_shop Date_start       City          Format  SKU_Count\n",
       "0  Стремительный 2000-12-03    Москва              NaN       1300\n",
       "1    Хрустальный 1999-07-08  Волгоград  Магазин у дома       1000\n",
       "2     Турбуленый 2000-02-13  Краснодар     Гипермаркет       3000\n",
       "3        Опасный 2005-04-15  Краснодар             NaN       1300\n",
       "4        Полдний 2005-11-19     Москва  Магазин у дома       1000\n",
       "5   Колоссальный 2005-05-31     Москва       Косметика       1500\n",
       "6      Правдивый 2014-04-28     Москва             NaN       1300"
      ]
     },
     "execution_count": 6,
     "metadata": {},
     "output_type": "execute_result"
    }
   ],
   "source": [
    "df"
   ]
  },
  {
   "cell_type": "code",
   "execution_count": 8,
   "metadata": {},
   "outputs": [
    {
     "data": {
      "text/plain": [
       "Name_shop             object\n",
       "Date_start    datetime64[ns]\n",
       "City                  object\n",
       "Format                object\n",
       "SKU_Count              int64\n",
       "dtype: object"
      ]
     },
     "execution_count": 8,
     "metadata": {},
     "output_type": "execute_result"
    }
   ],
   "source": [
    "df.dtypes"
   ]
  },
  {
   "cell_type": "code",
   "execution_count": 9,
   "metadata": {},
   "outputs": [
    {
     "name": "stdout",
     "output_type": "stream",
     "text": [
      "<class 'pandas.core.frame.DataFrame'>\n",
      "RangeIndex: 7 entries, 0 to 6\n",
      "Data columns (total 5 columns):\n",
      "Name_shop     7 non-null object\n",
      "Date_start    7 non-null datetime64[ns]\n",
      "City          7 non-null object\n",
      "Format        4 non-null object\n",
      "SKU_Count     7 non-null int64\n",
      "dtypes: datetime64[ns](1), int64(1), object(3)\n",
      "memory usage: 360.0+ bytes\n"
     ]
    }
   ],
   "source": [
    "df.info()"
   ]
  },
  {
   "cell_type": "code",
   "execution_count": 10,
   "metadata": {},
   "outputs": [],
   "source": [
    "df.Format.fillna('Супермаркет', inplace=True)\n",
    "# Метод fillna обращаемся к стобцу формат и зполняет пустые ячейки\n"
   ]
  },
  {
   "cell_type": "code",
   "execution_count": 12,
   "metadata": {},
   "outputs": [
    {
     "data": {
      "text/plain": [
       "0       Супермаркет\n",
       "1    Магазин у дома\n",
       "2       Гипермаркет\n",
       "3       Супермаркет\n",
       "4    Магазин у дома\n",
       "5         Косметика\n",
       "6       Супермаркет\n",
       "Name: Format, dtype: object"
      ]
     },
     "execution_count": 12,
     "metadata": {},
     "output_type": "execute_result"
    }
   ],
   "source": [
    "df.Format"
   ]
  },
  {
   "cell_type": "code",
   "execution_count": 14,
   "metadata": {},
   "outputs": [
    {
     "data": {
      "text/html": [
       "<div>\n",
       "<style scoped>\n",
       "    .dataframe tbody tr th:only-of-type {\n",
       "        vertical-align: middle;\n",
       "    }\n",
       "\n",
       "    .dataframe tbody tr th {\n",
       "        vertical-align: top;\n",
       "    }\n",
       "\n",
       "    .dataframe thead th {\n",
       "        text-align: right;\n",
       "    }\n",
       "</style>\n",
       "<table border=\"1\" class=\"dataframe\">\n",
       "  <thead>\n",
       "    <tr style=\"text-align: right;\">\n",
       "      <th></th>\n",
       "      <th>Format</th>\n",
       "    </tr>\n",
       "  </thead>\n",
       "  <tbody>\n",
       "    <tr>\n",
       "      <th>0</th>\n",
       "      <td>Супермаркет</td>\n",
       "    </tr>\n",
       "    <tr>\n",
       "      <th>1</th>\n",
       "      <td>Магазин у дома</td>\n",
       "    </tr>\n",
       "    <tr>\n",
       "      <th>2</th>\n",
       "      <td>Гипермаркет</td>\n",
       "    </tr>\n",
       "    <tr>\n",
       "      <th>3</th>\n",
       "      <td>Супермаркет</td>\n",
       "    </tr>\n",
       "    <tr>\n",
       "      <th>4</th>\n",
       "      <td>Магазин у дома</td>\n",
       "    </tr>\n",
       "    <tr>\n",
       "      <th>5</th>\n",
       "      <td>Косметика</td>\n",
       "    </tr>\n",
       "    <tr>\n",
       "      <th>6</th>\n",
       "      <td>Супермаркет</td>\n",
       "    </tr>\n",
       "  </tbody>\n",
       "</table>\n",
       "</div>"
      ],
      "text/plain": [
       "           Format\n",
       "0     Супермаркет\n",
       "1  Магазин у дома\n",
       "2     Гипермаркет\n",
       "3     Супермаркет\n",
       "4  Магазин у дома\n",
       "5       Косметика\n",
       "6     Супермаркет"
      ]
     },
     "execution_count": 14,
     "metadata": {},
     "output_type": "execute_result"
    }
   ],
   "source": [
    "df[['Format']]"
   ]
  },
  {
   "cell_type": "code",
   "execution_count": 15,
   "metadata": {},
   "outputs": [
    {
     "data": {
      "text/html": [
       "<div>\n",
       "<style scoped>\n",
       "    .dataframe tbody tr th:only-of-type {\n",
       "        vertical-align: middle;\n",
       "    }\n",
       "\n",
       "    .dataframe tbody tr th {\n",
       "        vertical-align: top;\n",
       "    }\n",
       "\n",
       "    .dataframe thead th {\n",
       "        text-align: right;\n",
       "    }\n",
       "</style>\n",
       "<table border=\"1\" class=\"dataframe\">\n",
       "  <thead>\n",
       "    <tr style=\"text-align: right;\">\n",
       "      <th></th>\n",
       "      <th>Name_shop</th>\n",
       "      <th>Format</th>\n",
       "    </tr>\n",
       "  </thead>\n",
       "  <tbody>\n",
       "    <tr>\n",
       "      <th>0</th>\n",
       "      <td>Стремительный</td>\n",
       "      <td>Супермаркет</td>\n",
       "    </tr>\n",
       "    <tr>\n",
       "      <th>1</th>\n",
       "      <td>Хрустальный</td>\n",
       "      <td>Магазин у дома</td>\n",
       "    </tr>\n",
       "    <tr>\n",
       "      <th>2</th>\n",
       "      <td>Турбуленый</td>\n",
       "      <td>Гипермаркет</td>\n",
       "    </tr>\n",
       "    <tr>\n",
       "      <th>3</th>\n",
       "      <td>Опасный</td>\n",
       "      <td>Супермаркет</td>\n",
       "    </tr>\n",
       "    <tr>\n",
       "      <th>4</th>\n",
       "      <td>Полдний</td>\n",
       "      <td>Магазин у дома</td>\n",
       "    </tr>\n",
       "    <tr>\n",
       "      <th>5</th>\n",
       "      <td>Колоссальный</td>\n",
       "      <td>Косметика</td>\n",
       "    </tr>\n",
       "    <tr>\n",
       "      <th>6</th>\n",
       "      <td>Правдивый</td>\n",
       "      <td>Супермаркет</td>\n",
       "    </tr>\n",
       "  </tbody>\n",
       "</table>\n",
       "</div>"
      ],
      "text/plain": [
       "       Name_shop          Format\n",
       "0  Стремительный     Супермаркет\n",
       "1    Хрустальный  Магазин у дома\n",
       "2     Турбуленый     Гипермаркет\n",
       "3        Опасный     Супермаркет\n",
       "4        Полдний  Магазин у дома\n",
       "5   Колоссальный       Косметика\n",
       "6      Правдивый     Супермаркет"
      ]
     },
     "execution_count": 15,
     "metadata": {},
     "output_type": "execute_result"
    }
   ],
   "source": [
    "df[['Name_shop','Format']]"
   ]
  },
  {
   "cell_type": "code",
   "execution_count": 16,
   "metadata": {},
   "outputs": [
    {
     "data": {
      "text/plain": [
       "<bound method NDFrame.head of        Name_shop Date_start       City          Format  SKU_Count\n",
       "0  Стремительный 2000-12-03    Москва      Супермаркет       1300\n",
       "1    Хрустальный 1999-07-08  Волгоград  Магазин у дома       1000\n",
       "2     Турбуленый 2000-02-13  Краснодар     Гипермаркет       3000\n",
       "3        Опасный 2005-04-15  Краснодар     Супермаркет       1300\n",
       "4        Полдний 2005-11-19     Москва  Магазин у дома       1000\n",
       "5   Колоссальный 2005-05-31     Москва       Косметика       1500\n",
       "6      Правдивый 2014-04-28     Москва     Супермаркет       1300>"
      ]
     },
     "execution_count": 16,
     "metadata": {},
     "output_type": "execute_result"
    }
   ],
   "source": [
    "df.head"
   ]
  },
  {
   "cell_type": "code",
   "execution_count": 18,
   "metadata": {},
   "outputs": [
    {
     "data": {
      "text/plain": [
       "<bound method NDFrame.tail of        Name_shop Date_start       City          Format  SKU_Count\n",
       "0  Стремительный 2000-12-03    Москва      Супермаркет       1300\n",
       "1    Хрустальный 1999-07-08  Волгоград  Магазин у дома       1000\n",
       "2     Турбуленый 2000-02-13  Краснодар     Гипермаркет       3000\n",
       "3        Опасный 2005-04-15  Краснодар     Супермаркет       1300\n",
       "4        Полдний 2005-11-19     Москва  Магазин у дома       1000\n",
       "5   Колоссальный 2005-05-31     Москва       Косметика       1500\n",
       "6      Правдивый 2014-04-28     Москва     Супермаркет       1300>"
      ]
     },
     "execution_count": 18,
     "metadata": {},
     "output_type": "execute_result"
    }
   ],
   "source": [
    "df.tail"
   ]
  },
  {
   "cell_type": "code",
   "execution_count": 20,
   "metadata": {},
   "outputs": [
    {
     "data": {
      "text/html": [
       "<div>\n",
       "<style scoped>\n",
       "    .dataframe tbody tr th:only-of-type {\n",
       "        vertical-align: middle;\n",
       "    }\n",
       "\n",
       "    .dataframe tbody tr th {\n",
       "        vertical-align: top;\n",
       "    }\n",
       "\n",
       "    .dataframe thead th {\n",
       "        text-align: right;\n",
       "    }\n",
       "</style>\n",
       "<table border=\"1\" class=\"dataframe\">\n",
       "  <thead>\n",
       "    <tr style=\"text-align: right;\">\n",
       "      <th></th>\n",
       "      <th>Name_shop</th>\n",
       "      <th>Date_start</th>\n",
       "      <th>City</th>\n",
       "      <th>Format</th>\n",
       "      <th>SKU_Count</th>\n",
       "    </tr>\n",
       "  </thead>\n",
       "  <tbody>\n",
       "    <tr>\n",
       "      <th>0</th>\n",
       "      <td>Стремительный</td>\n",
       "      <td>2000-12-03</td>\n",
       "      <td>Москва</td>\n",
       "      <td>Супермаркет</td>\n",
       "      <td>1300</td>\n",
       "    </tr>\n",
       "    <tr>\n",
       "      <th>1</th>\n",
       "      <td>Хрустальный</td>\n",
       "      <td>1999-07-08</td>\n",
       "      <td>Волгоград</td>\n",
       "      <td>Магазин у дома</td>\n",
       "      <td>1000</td>\n",
       "    </tr>\n",
       "  </tbody>\n",
       "</table>\n",
       "</div>"
      ],
      "text/plain": [
       "       Name_shop Date_start       City          Format  SKU_Count\n",
       "0  Стремительный 2000-12-03    Москва      Супермаркет       1300\n",
       "1    Хрустальный 1999-07-08  Волгоград  Магазин у дома       1000"
      ]
     },
     "execution_count": 20,
     "metadata": {},
     "output_type": "execute_result"
    }
   ],
   "source": [
    "df[:2]\n",
    "# Выводит первые 2 строки из списка"
   ]
  },
  {
   "cell_type": "code",
   "execution_count": 21,
   "metadata": {},
   "outputs": [
    {
     "data": {
      "text/html": [
       "<div>\n",
       "<style scoped>\n",
       "    .dataframe tbody tr th:only-of-type {\n",
       "        vertical-align: middle;\n",
       "    }\n",
       "\n",
       "    .dataframe tbody tr th {\n",
       "        vertical-align: top;\n",
       "    }\n",
       "\n",
       "    .dataframe thead th {\n",
       "        text-align: right;\n",
       "    }\n",
       "</style>\n",
       "<table border=\"1\" class=\"dataframe\">\n",
       "  <thead>\n",
       "    <tr style=\"text-align: right;\">\n",
       "      <th></th>\n",
       "      <th>Name_shop</th>\n",
       "      <th>Date_start</th>\n",
       "      <th>City</th>\n",
       "      <th>Format</th>\n",
       "      <th>SKU_Count</th>\n",
       "    </tr>\n",
       "  </thead>\n",
       "  <tbody>\n",
       "    <tr>\n",
       "      <th>4</th>\n",
       "      <td>Полдний</td>\n",
       "      <td>2005-11-19</td>\n",
       "      <td>Москва</td>\n",
       "      <td>Магазин у дома</td>\n",
       "      <td>1000</td>\n",
       "    </tr>\n",
       "    <tr>\n",
       "      <th>5</th>\n",
       "      <td>Колоссальный</td>\n",
       "      <td>2005-05-31</td>\n",
       "      <td>Москва</td>\n",
       "      <td>Косметика</td>\n",
       "      <td>1500</td>\n",
       "    </tr>\n",
       "    <tr>\n",
       "      <th>6</th>\n",
       "      <td>Правдивый</td>\n",
       "      <td>2014-04-28</td>\n",
       "      <td>Москва</td>\n",
       "      <td>Супермаркет</td>\n",
       "      <td>1300</td>\n",
       "    </tr>\n",
       "  </tbody>\n",
       "</table>\n",
       "</div>"
      ],
      "text/plain": [
       "      Name_shop Date_start    City          Format  SKU_Count\n",
       "4       Полдний 2005-11-19  Москва  Магазин у дома       1000\n",
       "5  Колоссальный 2005-05-31  Москва       Косметика       1500\n",
       "6     Правдивый 2014-04-28  Москва     Супермаркет       1300"
      ]
     },
     "execution_count": 21,
     "metadata": {},
     "output_type": "execute_result"
    }
   ],
   "source": [
    "df[-3:]\n",
    "# Выводит последние 3 строки из списка"
   ]
  },
  {
   "cell_type": "code",
   "execution_count": 23,
   "metadata": {},
   "outputs": [
    {
     "data": {
      "text/html": [
       "<div>\n",
       "<style scoped>\n",
       "    .dataframe tbody tr th:only-of-type {\n",
       "        vertical-align: middle;\n",
       "    }\n",
       "\n",
       "    .dataframe tbody tr th {\n",
       "        vertical-align: top;\n",
       "    }\n",
       "\n",
       "    .dataframe thead th {\n",
       "        text-align: right;\n",
       "    }\n",
       "</style>\n",
       "<table border=\"1\" class=\"dataframe\">\n",
       "  <thead>\n",
       "    <tr style=\"text-align: right;\">\n",
       "      <th></th>\n",
       "      <th>Name_shop</th>\n",
       "      <th>City</th>\n",
       "    </tr>\n",
       "  </thead>\n",
       "  <tbody>\n",
       "    <tr>\n",
       "      <th>1</th>\n",
       "      <td>Хрустальный</td>\n",
       "      <td>Волгоград</td>\n",
       "    </tr>\n",
       "    <tr>\n",
       "      <th>3</th>\n",
       "      <td>Опасный</td>\n",
       "      <td>Краснодар</td>\n",
       "    </tr>\n",
       "    <tr>\n",
       "      <th>5</th>\n",
       "      <td>Колоссальный</td>\n",
       "      <td>Москва</td>\n",
       "    </tr>\n",
       "  </tbody>\n",
       "</table>\n",
       "</div>"
      ],
      "text/plain": [
       "      Name_shop       City\n",
       "1   Хрустальный  Волгоград\n",
       "3       Опасный  Краснодар\n",
       "5  Колоссальный     Москва"
      ]
     },
     "execution_count": 23,
     "metadata": {},
     "output_type": "execute_result"
    }
   ],
   "source": [
    "df.loc[[1,3,5],['Name_shop','City']]\n",
    "# Выводит 1,3,5 магазин"
   ]
  },
  {
   "cell_type": "code",
   "execution_count": 25,
   "metadata": {},
   "outputs": [
    {
     "data": {
      "text/html": [
       "<div>\n",
       "<style scoped>\n",
       "    .dataframe tbody tr th:only-of-type {\n",
       "        vertical-align: middle;\n",
       "    }\n",
       "\n",
       "    .dataframe tbody tr th {\n",
       "        vertical-align: top;\n",
       "    }\n",
       "\n",
       "    .dataframe thead th {\n",
       "        text-align: right;\n",
       "    }\n",
       "</style>\n",
       "<table border=\"1\" class=\"dataframe\">\n",
       "  <thead>\n",
       "    <tr style=\"text-align: right;\">\n",
       "      <th></th>\n",
       "      <th>Name_shop</th>\n",
       "      <th>City</th>\n",
       "    </tr>\n",
       "  </thead>\n",
       "  <tbody>\n",
       "    <tr>\n",
       "      <th>1</th>\n",
       "      <td>Хрустальный</td>\n",
       "      <td>Волгоград</td>\n",
       "    </tr>\n",
       "    <tr>\n",
       "      <th>3</th>\n",
       "      <td>Опасный</td>\n",
       "      <td>Краснодар</td>\n",
       "    </tr>\n",
       "    <tr>\n",
       "      <th>5</th>\n",
       "      <td>Колоссальный</td>\n",
       "      <td>Москва</td>\n",
       "    </tr>\n",
       "  </tbody>\n",
       "</table>\n",
       "</div>"
      ],
      "text/plain": [
       "      Name_shop       City\n",
       "1   Хрустальный  Волгоград\n",
       "3       Опасный  Краснодар\n",
       "5  Колоссальный     Москва"
      ]
     },
     "execution_count": 25,
     "metadata": {},
     "output_type": "execute_result"
    }
   ],
   "source": [
    "df.iloc[[1,3,5],[0,2]]\n",
    "# Выводит 1,3,5 магазин"
   ]
  },
  {
   "cell_type": "code",
   "execution_count": 29,
   "metadata": {},
   "outputs": [
    {
     "data": {
      "text/html": [
       "<div>\n",
       "<style scoped>\n",
       "    .dataframe tbody tr th:only-of-type {\n",
       "        vertical-align: middle;\n",
       "    }\n",
       "\n",
       "    .dataframe tbody tr th {\n",
       "        vertical-align: top;\n",
       "    }\n",
       "\n",
       "    .dataframe thead th {\n",
       "        text-align: right;\n",
       "    }\n",
       "</style>\n",
       "<table border=\"1\" class=\"dataframe\">\n",
       "  <thead>\n",
       "    <tr style=\"text-align: right;\">\n",
       "      <th></th>\n",
       "      <th>Name_shop</th>\n",
       "      <th>Date_start</th>\n",
       "      <th>City</th>\n",
       "      <th>Format</th>\n",
       "      <th>SKU_Count</th>\n",
       "    </tr>\n",
       "  </thead>\n",
       "  <tbody>\n",
       "    <tr>\n",
       "      <th>3</th>\n",
       "      <td>Опасный</td>\n",
       "      <td>2005-04-15</td>\n",
       "      <td>Краснодар</td>\n",
       "      <td>Супермаркет</td>\n",
       "      <td>1300</td>\n",
       "    </tr>\n",
       "    <tr>\n",
       "      <th>4</th>\n",
       "      <td>Полдний</td>\n",
       "      <td>2005-11-19</td>\n",
       "      <td>Москва</td>\n",
       "      <td>Магазин у дома</td>\n",
       "      <td>1000</td>\n",
       "    </tr>\n",
       "    <tr>\n",
       "      <th>5</th>\n",
       "      <td>Колоссальный</td>\n",
       "      <td>2005-05-31</td>\n",
       "      <td>Москва</td>\n",
       "      <td>Косметика</td>\n",
       "      <td>1500</td>\n",
       "    </tr>\n",
       "    <tr>\n",
       "      <th>6</th>\n",
       "      <td>Правдивый</td>\n",
       "      <td>2014-04-28</td>\n",
       "      <td>Москва</td>\n",
       "      <td>Супермаркет</td>\n",
       "      <td>1300</td>\n",
       "    </tr>\n",
       "  </tbody>\n",
       "</table>\n",
       "</div>"
      ],
      "text/plain": [
       "      Name_shop Date_start       City          Format  SKU_Count\n",
       "3       Опасный 2005-04-15  Краснодар     Супермаркет       1300\n",
       "4       Полдний 2005-11-19     Москва  Магазин у дома       1000\n",
       "5  Колоссальный 2005-05-31     Москва       Косметика       1500\n",
       "6     Правдивый 2014-04-28     Москва     Супермаркет       1300"
      ]
     },
     "execution_count": 29,
     "metadata": {},
     "output_type": "execute_result"
    }
   ],
   "source": [
    "df[df.Date_start >= pd.datetime(2002,1,1)]\n",
    "#Выводит магазины откыте после 2000 года"
   ]
  },
  {
   "cell_type": "code",
   "execution_count": 30,
   "metadata": {},
   "outputs": [
    {
     "data": {
      "text/html": [
       "<div>\n",
       "<style scoped>\n",
       "    .dataframe tbody tr th:only-of-type {\n",
       "        vertical-align: middle;\n",
       "    }\n",
       "\n",
       "    .dataframe tbody tr th {\n",
       "        vertical-align: top;\n",
       "    }\n",
       "\n",
       "    .dataframe thead th {\n",
       "        text-align: right;\n",
       "    }\n",
       "</style>\n",
       "<table border=\"1\" class=\"dataframe\">\n",
       "  <thead>\n",
       "    <tr style=\"text-align: right;\">\n",
       "      <th></th>\n",
       "      <th>Name_shop</th>\n",
       "      <th>Date_start</th>\n",
       "      <th>City</th>\n",
       "      <th>Format</th>\n",
       "      <th>SKU_Count</th>\n",
       "    </tr>\n",
       "  </thead>\n",
       "  <tbody>\n",
       "    <tr>\n",
       "      <th>0</th>\n",
       "      <td>Стремительный</td>\n",
       "      <td>2000-12-03</td>\n",
       "      <td>Москва</td>\n",
       "      <td>Супермаркет</td>\n",
       "      <td>1300</td>\n",
       "    </tr>\n",
       "    <tr>\n",
       "      <th>1</th>\n",
       "      <td>Хрустальный</td>\n",
       "      <td>1999-07-08</td>\n",
       "      <td>Волгоград</td>\n",
       "      <td>Магазин у дома</td>\n",
       "      <td>1000</td>\n",
       "    </tr>\n",
       "    <tr>\n",
       "      <th>2</th>\n",
       "      <td>Турбуленый</td>\n",
       "      <td>2000-02-13</td>\n",
       "      <td>Краснодар</td>\n",
       "      <td>Гипермаркет</td>\n",
       "      <td>3000</td>\n",
       "    </tr>\n",
       "    <tr>\n",
       "      <th>3</th>\n",
       "      <td>Опасный</td>\n",
       "      <td>2005-04-15</td>\n",
       "      <td>Краснодар</td>\n",
       "      <td>Супермаркет</td>\n",
       "      <td>1300</td>\n",
       "    </tr>\n",
       "    <tr>\n",
       "      <th>4</th>\n",
       "      <td>Полдний</td>\n",
       "      <td>2005-11-19</td>\n",
       "      <td>Москва</td>\n",
       "      <td>Магазин у дома</td>\n",
       "      <td>1000</td>\n",
       "    </tr>\n",
       "    <tr>\n",
       "      <th>5</th>\n",
       "      <td>Колоссальный</td>\n",
       "      <td>2005-05-31</td>\n",
       "      <td>Москва</td>\n",
       "      <td>Косметика</td>\n",
       "      <td>1500</td>\n",
       "    </tr>\n",
       "    <tr>\n",
       "      <th>6</th>\n",
       "      <td>Правдивый</td>\n",
       "      <td>2014-04-28</td>\n",
       "      <td>Москва</td>\n",
       "      <td>Супермаркет</td>\n",
       "      <td>1300</td>\n",
       "    </tr>\n",
       "  </tbody>\n",
       "</table>\n",
       "</div>"
      ],
      "text/plain": [
       "       Name_shop Date_start       City          Format  SKU_Count\n",
       "0  Стремительный 2000-12-03    Москва      Супермаркет       1300\n",
       "1    Хрустальный 1999-07-08  Волгоград  Магазин у дома       1000\n",
       "2     Турбуленый 2000-02-13  Краснодар     Гипермаркет       3000\n",
       "3        Опасный 2005-04-15  Краснодар     Супермаркет       1300\n",
       "4        Полдний 2005-11-19     Москва  Магазин у дома       1000\n",
       "5   Колоссальный 2005-05-31     Москва       Косметика       1500\n",
       "6      Правдивый 2014-04-28     Москва     Супермаркет       1300"
      ]
     },
     "execution_count": 30,
     "metadata": {},
     "output_type": "execute_result"
    }
   ],
   "source": [
    "df"
   ]
  },
  {
   "cell_type": "code",
   "execution_count": 31,
   "metadata": {},
   "outputs": [
    {
     "data": {
      "text/html": [
       "<div>\n",
       "<style scoped>\n",
       "    .dataframe tbody tr th:only-of-type {\n",
       "        vertical-align: middle;\n",
       "    }\n",
       "\n",
       "    .dataframe tbody tr th {\n",
       "        vertical-align: top;\n",
       "    }\n",
       "\n",
       "    .dataframe thead th {\n",
       "        text-align: right;\n",
       "    }\n",
       "</style>\n",
       "<table border=\"1\" class=\"dataframe\">\n",
       "  <thead>\n",
       "    <tr style=\"text-align: right;\">\n",
       "      <th></th>\n",
       "      <th>Name_shop</th>\n",
       "      <th>Date_start</th>\n",
       "      <th>City</th>\n",
       "      <th>Format</th>\n",
       "      <th>SKU_Count</th>\n",
       "    </tr>\n",
       "  </thead>\n",
       "  <tbody>\n",
       "    <tr>\n",
       "      <th>3</th>\n",
       "      <td>Опасный</td>\n",
       "      <td>2005-04-15</td>\n",
       "      <td>Краснодар</td>\n",
       "      <td>Супермаркет</td>\n",
       "      <td>1300</td>\n",
       "    </tr>\n",
       "  </tbody>\n",
       "</table>\n",
       "</div>"
      ],
      "text/plain": [
       "  Name_shop Date_start       City       Format  SKU_Count\n",
       "3   Опасный 2005-04-15  Краснодар  Супермаркет       1300"
      ]
     },
     "execution_count": 31,
     "metadata": {},
     "output_type": "execute_result"
    }
   ],
   "source": [
    "df[(df.Date_start >= pd.datetime(2002,1,1)) & (df.City != 'Москва')]\n",
    "# Выводит магаины которые открылись после 2000года не в МСК\n"
   ]
  },
  {
   "cell_type": "code",
   "execution_count": 35,
   "metadata": {},
   "outputs": [
    {
     "data": {
      "text/html": [
       "<div>\n",
       "<style scoped>\n",
       "    .dataframe tbody tr th:only-of-type {\n",
       "        vertical-align: middle;\n",
       "    }\n",
       "\n",
       "    .dataframe tbody tr th {\n",
       "        vertical-align: top;\n",
       "    }\n",
       "\n",
       "    .dataframe thead th {\n",
       "        text-align: right;\n",
       "    }\n",
       "</style>\n",
       "<table border=\"1\" class=\"dataframe\">\n",
       "  <thead>\n",
       "    <tr style=\"text-align: right;\">\n",
       "      <th></th>\n",
       "      <th>Name_shop</th>\n",
       "      <th>Date_start</th>\n",
       "      <th>City</th>\n",
       "      <th>Format</th>\n",
       "      <th>SKU_Count</th>\n",
       "    </tr>\n",
       "  </thead>\n",
       "  <tbody>\n",
       "    <tr>\n",
       "      <th>1</th>\n",
       "      <td>Хрустальный</td>\n",
       "      <td>1999-07-08</td>\n",
       "      <td>Волгоград</td>\n",
       "      <td>Магазин у дома</td>\n",
       "      <td>1000</td>\n",
       "    </tr>\n",
       "    <tr>\n",
       "      <th>3</th>\n",
       "      <td>Опасный</td>\n",
       "      <td>2005-04-15</td>\n",
       "      <td>Краснодар</td>\n",
       "      <td>Супермаркет</td>\n",
       "      <td>1300</td>\n",
       "    </tr>\n",
       "    <tr>\n",
       "      <th>4</th>\n",
       "      <td>Полдний</td>\n",
       "      <td>2005-11-19</td>\n",
       "      <td>Москва</td>\n",
       "      <td>Магазин у дома</td>\n",
       "      <td>1000</td>\n",
       "    </tr>\n",
       "    <tr>\n",
       "      <th>5</th>\n",
       "      <td>Колоссальный</td>\n",
       "      <td>2005-05-31</td>\n",
       "      <td>Москва</td>\n",
       "      <td>Косметика</td>\n",
       "      <td>1500</td>\n",
       "    </tr>\n",
       "    <tr>\n",
       "      <th>6</th>\n",
       "      <td>Правдивый</td>\n",
       "      <td>2014-04-28</td>\n",
       "      <td>Москва</td>\n",
       "      <td>Супермаркет</td>\n",
       "      <td>1300</td>\n",
       "    </tr>\n",
       "  </tbody>\n",
       "</table>\n",
       "</div>"
      ],
      "text/plain": [
       "      Name_shop Date_start       City          Format  SKU_Count\n",
       "1   Хрустальный 1999-07-08  Волгоград  Магазин у дома       1000\n",
       "3       Опасный 2005-04-15  Краснодар     Супермаркет       1300\n",
       "4       Полдний 2005-11-19     Москва  Магазин у дома       1000\n",
       "5  Колоссальный 2005-05-31     Москва       Косметика       1500\n",
       "6     Правдивый 2014-04-28     Москва     Супермаркет       1300"
      ]
     },
     "execution_count": 35,
     "metadata": {},
     "output_type": "execute_result"
    }
   ],
   "source": [
    "df[(df.Date_start >= pd.datetime(2002,1,1)) | (df.City == 'Волгоград')]\n"
   ]
  },
  {
   "cell_type": "code",
   "execution_count": null,
   "metadata": {},
   "outputs": [],
   "source": []
  }
 ],
 "metadata": {
  "kernelspec": {
   "display_name": "Python 3",
   "language": "python",
   "name": "python3"
  },
  "language_info": {
   "codemirror_mode": {
    "name": "ipython",
    "version": 3
   },
   "file_extension": ".py",
   "mimetype": "text/x-python",
   "name": "python",
   "nbconvert_exporter": "python",
   "pygments_lexer": "ipython3",
   "version": "3.7.0"
  }
 },
 "nbformat": 4,
 "nbformat_minor": 2
}
