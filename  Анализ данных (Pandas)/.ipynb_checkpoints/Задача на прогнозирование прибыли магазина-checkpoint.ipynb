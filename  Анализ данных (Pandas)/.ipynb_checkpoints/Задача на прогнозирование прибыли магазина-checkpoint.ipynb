{
 "cells": [
  {
   "cell_type": "code",
   "execution_count": 1,
   "metadata": {},
   "outputs": [],
   "source": [
    " %matplotlib inline\n",
    "from scipy import optimize\n",
    "import numpy as np\n",
    "from matplotlib import pylab as plt\n",
    "from scipy import linalg"
   ]
  },
  {
   "cell_type": "code",
   "execution_count": 2,
   "metadata": {},
   "outputs": [],
   "source": [
    "# Магазин: 1. Площадь, 2. Кол-во товаров, 3. Населениев радиусе 100 метров.\n",
    "a = np.array([[100, 1300, 5000],[120, 1500, 6000], [150, 1600, 6000]])\n",
    "b = np.array([1500000, 2000000, 2100000])\n",
    "\n",
    "x = linalg.solve(a, b)"
   ]
  },
  {
   "cell_type": "code",
   "execution_count": 3,
   "metadata": {},
   "outputs": [
    {
     "data": {
      "text/plain": [
       "array([2183333.33333333])"
      ]
     },
     "execution_count": 3,
     "metadata": {},
     "output_type": "execute_result"
    }
   ],
   "source": [
    "c = np.array([[140, 1400, 5500]])\n",
    "np.dot(c, x)"
   ]
  },
  {
   "cell_type": "code",
   "execution_count": 4,
   "metadata": {},
   "outputs": [],
   "source": [
    "a = np.array([[100, 1300, 5000, 8],[120, 1500, 6000, 9], [150, 1600, 6000, 9]])\n",
    "b = np.array([1500000, 2000000, 2100000])"
   ]
  },
  {
   "cell_type": "code",
   "execution_count": 5,
   "metadata": {},
   "outputs": [
    {
     "name": "stderr",
     "output_type": "stream",
     "text": [
      "/Library/Frameworks/Python.framework/Versions/3.7/lib/python3.7/site-packages/ipykernel_launcher.py:1: FutureWarning: `rcond` parameter will change to the default of machine precision times ``max(M, N)`` where M and N are the input matrix dimensions.\n",
      "To use the future default and silence this warning we advise to pass `rcond=None`, to keep using the old, explicitly pass `rcond=-1`.\n",
      "  \"\"\"Entry point for launching an IPython kernel.\n"
     ]
    }
   ],
   "source": [
    "x , res, r, s = np.linalg.lstsq(a, b)\n",
    "# Метод Наименьших квадратов"
   ]
  },
  {
   "cell_type": "code",
   "execution_count": 6,
   "metadata": {},
   "outputs": [
    {
     "name": "stdout",
     "output_type": "stream",
     "text": [
      "Матрица А:\n",
      " [[ 100 1300 5000    8]\n",
      " [ 120 1500 6000    9]\n",
      " [ 150 1600 6000    9]]\n",
      "Вектор b:\n",
      " [1500000 2000000 2100000]\n",
      "Псевдорешение систем:\n",
      " [14427.29496935 -3328.18849081   877.60628303  -514.48425265]\n"
     ]
    }
   ],
   "source": [
    "print('Матрица А:\\n', a)\n",
    "print('Вектор b:\\n', b)\n",
    "print('Псевдорешение систем:\\n', x)"
   ]
  },
  {
   "cell_type": "code",
   "execution_count": 7,
   "metadata": {},
   "outputs": [
    {
     "name": "stdout",
     "output_type": "stream",
     "text": [
      "[2182047.12270164]\n"
     ]
    }
   ],
   "source": [
    "c = np.array([[140, 1400, 5500, 10]])\n",
    "print(np.dot(c, x))"
   ]
  },
  {
   "cell_type": "code",
   "execution_count": 32,
   "metadata": {},
   "outputs": [
    {
     "name": "stderr",
     "output_type": "stream",
     "text": [
      "/Library/Frameworks/Python.framework/Versions/3.7/lib/python3.7/site-packages/ipykernel_launcher.py:4: FutureWarning: `rcond` parameter will change to the default of machine precision times ``max(M, N)`` where M and N are the input matrix dimensions.\n",
      "To use the future default and silence this warning we advise to pass `rcond=None`, to keep using the old, explicitly pass `rcond=-1`.\n",
      "  after removing the cwd from sys.path.\n"
     ]
    }
   ],
   "source": [
    "a = np.array([[100, 1300, 5000, 8],[120, 1500, 6000, 9], [150, 1600, 6000, 9], [153, 1200, 6500, 7], [90, 900, 4500, 9]])\n",
    "b = np.array([1500000, 2000000, 2100000, 2000000, 1300000])\n",
    "\n",
    "x , res, r, s = np.linalg.lstsq(a, b)\n"
   ]
  },
  {
   "cell_type": "code",
   "execution_count": 33,
   "metadata": {},
   "outputs": [
    {
     "name": "stdout",
     "output_type": "stream",
     "text": [
      "[1868029.68644457]\n"
     ]
    }
   ],
   "source": [
    "c = np.array([[140, 1400, 5500, 10]])\n",
    "print(np.dot(c, x))"
   ]
  },
  {
   "cell_type": "code",
   "execution_count": null,
   "metadata": {},
   "outputs": [],
   "source": []
  },
  {
   "cell_type": "code",
   "execution_count": null,
   "metadata": {},
   "outputs": [],
   "source": []
  }
 ],
 "metadata": {
  "kernelspec": {
   "display_name": "Python 3",
   "language": "python",
   "name": "python3"
  },
  "language_info": {
   "codemirror_mode": {
    "name": "ipython",
    "version": 3
   },
   "file_extension": ".py",
   "mimetype": "text/x-python",
   "name": "python",
   "nbconvert_exporter": "python",
   "pygments_lexer": "ipython3",
   "version": "3.7.0"
  }
 },
 "nbformat": 4,
 "nbformat_minor": 2
}
