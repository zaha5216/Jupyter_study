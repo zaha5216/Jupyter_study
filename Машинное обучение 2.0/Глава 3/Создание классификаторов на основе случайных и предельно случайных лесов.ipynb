{
 "cells": [
  {
   "cell_type": "code",
   "execution_count": 12,
   "metadata": {},
   "outputs": [],
   "source": [
    "import argparse \n",
    "\n",
    "import numpy as np\n",
    "import matplotlib.pyplot as plt\n",
    "from sklearn.metrics import classification_report\n",
    "from sklearn.ensemble import RandomForestClassifier, ExtraTreesClassifier\n",
    "from sklearn.model_selection import cross_validate\n",
    "from sklearn.metrics import classification_report\n",
    "from sklearn.model_selection import train_test_split\n",
    "\n",
    "\n",
    "from utilities import visualize_classifier\n"
   ]
  },
  {
   "cell_type": "code",
   "execution_count": 8,
   "metadata": {},
   "outputs": [],
   "source": [
    "# Парсер аргументов\n",
    "def build_arg_parser():\n",
    "    parser = argparse.ArgumentParser(description='Classify data using \\\n",
    "            Ensemble Learning techniques')\n",
    "    parser.add_argument('--classifier-type', dest='classifier_type', \n",
    "            required=True, choices=['rf', 'erf'], help=\"Type of classifier \\\n",
    "                    to use; can be either 'rf' or 'erf'\")\n",
    "    return parser"
   ]
  },
  {
   "cell_type": "code",
   "execution_count": 13,
   "metadata": {},
   "outputs": [
    {
     "name": "stderr",
     "output_type": "stream",
     "text": [
      "usage: ipykernel_launcher.py [-h] --classifier-type {rf,erf}\n",
      "ipykernel_launcher.py: error: the following arguments are required: --classifier-type\n"
     ]
    },
    {
     "ename": "SystemExit",
     "evalue": "2",
     "output_type": "error",
     "traceback": [
      "An exception has occurred, use %tb to see the full traceback.\n",
      "\u001b[0;31mSystemExit\u001b[0m\u001b[0;31m:\u001b[0m 2\n"
     ]
    }
   ],
   "source": [
    "#4Определим основную функцию и извлечем входные арrументы.\n",
    "if __name__=='__main__':\n",
    "    # Извлечение входных аргументов\n",
    "    args = build_arg_parser().parse_args()\n",
    "    classifier_type = args.classifier_type\n",
    "\n",
    "    # Загрузка входных данных\n",
    "    input_file = 'data_random_forests.txt'\n",
    "    data = np.loadtxt(input_file, delimiter=',')\n",
    "    X, y = data[:, :-1], data[:, -1]\n",
    "\n",
    "    \n",
    "    #Разобьем входные данные на три класса.\n",
    "    # Разбиение входных данных на три класса\n",
    "    # на оснавании меток\n",
    "    class_0 = np.array(X[y==0])\n",
    "    class_1 = np.array(X[y==1])\n",
    "    class_2 = np.array(X[y==2])\n",
    "    \n",
    "    # Визуализация входных данных\n",
    "    plt.figure()\n",
    "    plt.scatter(class_0[:, 0], class_0[:, 1], s=75, facecolors='white', \n",
    "                    edgecolors='black', linewidth=1, marker='s')\n",
    "    plt.scatter(class_1[:, 0], class_1[:, 1], s=75, facecolors='white', \n",
    "                    edgecolors='black', linewidth=1, marker='o')\n",
    "    plt.scatter(class_2[:, 0], class_2[:, 1], s=75, facecolors='white', \n",
    "                    edgecolors='black', linewidth=1, marker='^')\n",
    "    plt.title('Input data')\n",
    "    \n",
    "    # Разбивка данных на обучающий и тестовый наборы\n",
    "    X_train, X_test, y_train, y_test = train_test_split(\n",
    "            X, y, test_size=0.25, random_state=5)\n",
    "    \n",
    "    # Классификатор на основе ансамблевого обучения\n",
    "    params = {'n_estimators': 100, 'max_depth': 4, 'random_state': 0}\n",
    "    if classifier_type == 'rf':\n",
    "        classifier = RandomForestClassifier(**params)\n",
    "    else:\n",
    "        classifier = ExtraTreesClassifier(**params)\n",
    "\n",
    "    classifier.fit(X_train, y_train)\n",
    "    visualize_classifier(classifier, X_train, y_train, 'Training dataset')\n",
    "\n",
    "    y_test_pred = classifier.predict(X_test)\n",
    "    visualize_classifier(classifier, X_test, y_test, 'Test dataset')\n",
    "    \n",
    "    # Проверка работы классификатора\n",
    "    class_names = ['Class-0', 'Class-1', 'Class-2']\n",
    "    print(\"\\n\" + \"#\"*40)\n",
    "    print(\"\\nClassifier performance on training dataset\\n\")\n",
    "    print(classification_report(y_train, classifier.predict(X_train), target_names=class_names))\n",
    "    print(\"#\"*40 + \"\\n\")\n",
    "\n",
    "    print(\"#\"*40)\n",
    "    print(\"\\nClassifier performance on test dataset\\n\")\n",
    "    print(classification_report(y_test, y_test_pred, target_names=class_names))\n",
    "    print(\"#\"*40 + \"\\n\")\n",
    "    \n",
    "    # Вычисление параметров доверительности\n",
    "    test_datapoints = np.array([[5, 5], [3, 6], [6, 4], [7, 2], [4, 4], [5, 2]])\n",
    "\n",
    "    print(\"\\nConfidence measure:\")\n",
    "    for datapoint in test_datapoints:\n",
    "        probabilities = classifier.predict_proba([datapoint])[0]\n",
    "        predicted_class = 'Class-' + str(np.argmax(probabilities))\n",
    "        print('\\nDatapoint:', datapoint)\n",
    "        print('Predicted class:', predicted_class) \n",
    "    \n",
    "     # Visualize the datapoints\n",
    "    visualize_classifier(classifier, test_datapoints, [0]*len(test_datapoints), \n",
    "            'Test datapoints')\n",
    "\n",
    "    plt.show()\n",
    " "
   ]
  },
  {
   "cell_type": "code",
   "execution_count": null,
   "metadata": {},
   "outputs": [],
   "source": []
  },
  {
   "cell_type": "code",
   "execution_count": null,
   "metadata": {},
   "outputs": [],
   "source": []
  }
 ],
 "metadata": {
  "kernelspec": {
   "display_name": "Python 3",
   "language": "python",
   "name": "python3"
  },
  "language_info": {
   "codemirror_mode": {
    "name": "ipython",
    "version": 3
   },
   "file_extension": ".py",
   "mimetype": "text/x-python",
   "name": "python",
   "nbconvert_exporter": "python",
   "pygments_lexer": "ipython3",
   "version": "3.7.0"
  }
 },
 "nbformat": 4,
 "nbformat_minor": 2
}
